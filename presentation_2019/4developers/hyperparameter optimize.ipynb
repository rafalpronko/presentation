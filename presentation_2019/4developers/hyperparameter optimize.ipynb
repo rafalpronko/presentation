{
 "cells": [
  {
   "cell_type": "markdown",
   "metadata": {
    "slideshow": {
     "slide_type": "slide"
    }
   },
   "source": [
    "# Hyperparameters optimization\n",
    "\n",
    "\n",
    "### Rafal Pronko\n",
    "rafalpronko @ LinkedIn, Telegram, Twitter, Tungsten\n",
    "\n",
    "\n",
    "| <img src=\"czmis.png\" width=\"100\">  | <img src=\"webinterpret.png\" width=\"100\">  |  <img src=\"pm.jpg\" width=\"100\"> |\n",
    "|---|---|---|\n",
    "| <img src=\"ynd.png\" width=\"100\">  | <img src=\"cleanride.svg\" width=\"100\">  | <img src=\"cvtimeline.jpg\" width=\"100\">  |\n",
    "\n",
    "\n",
    "\n",
    "\n"
   ]
  },
  {
   "cell_type": "markdown",
   "metadata": {
    "slideshow": {
     "slide_type": "slide"
    }
   },
   "source": [
    "## Data\n",
    "\n",
    "### Santander Customer Transaction Prediction\n"
   ]
  },
  {
   "cell_type": "code",
   "execution_count": 1,
   "metadata": {
    "slideshow": {
     "slide_type": "skip"
    }
   },
   "outputs": [],
   "source": [
    "import pandas as pd"
   ]
  },
  {
   "cell_type": "code",
   "execution_count": 2,
   "metadata": {
    "slideshow": {
     "slide_type": "slide"
    }
   },
   "outputs": [],
   "source": [
    "df = pd.read_csv(\"../data/processed/tomek_train.csv\")"
   ]
  },
  {
   "cell_type": "markdown",
   "metadata": {
    "slideshow": {
     "slide_type": "slide"
    }
   },
   "source": [
    "## Tomek Links\n",
    "\n",
    "\n",
    "<img src=\"tomek_links.png\" width=\"400\">"
   ]
  },
  {
   "cell_type": "code",
   "execution_count": 3,
   "metadata": {
    "slideshow": {
     "slide_type": "skip"
    }
   },
   "outputs": [],
   "source": [
    "df_test = pd.read_csv(\"../data/processed/train_test.csv\")"
   ]
  },
  {
   "cell_type": "code",
   "execution_count": 3,
   "metadata": {
    "slideshow": {
     "slide_type": "slide"
    }
   },
   "outputs": [
    {
     "data": {
      "text/html": [
       "<div>\n",
       "<style scoped>\n",
       "    .dataframe tbody tr th:only-of-type {\n",
       "        vertical-align: middle;\n",
       "    }\n",
       "\n",
       "    .dataframe tbody tr th {\n",
       "        vertical-align: top;\n",
       "    }\n",
       "\n",
       "    .dataframe thead th {\n",
       "        text-align: right;\n",
       "    }\n",
       "</style>\n",
       "<table border=\"1\" class=\"dataframe\">\n",
       "  <thead>\n",
       "    <tr style=\"text-align: right;\">\n",
       "      <th></th>\n",
       "      <th>var_0</th>\n",
       "      <th>var_1</th>\n",
       "      <th>var_2</th>\n",
       "      <th>var_3</th>\n",
       "      <th>var_4</th>\n",
       "      <th>var_5</th>\n",
       "      <th>var_6</th>\n",
       "      <th>var_7</th>\n",
       "      <th>var_8</th>\n",
       "      <th>var_9</th>\n",
       "      <th>...</th>\n",
       "      <th>var_191</th>\n",
       "      <th>var_192</th>\n",
       "      <th>var_193</th>\n",
       "      <th>var_194</th>\n",
       "      <th>var_195</th>\n",
       "      <th>var_196</th>\n",
       "      <th>var_197</th>\n",
       "      <th>var_198</th>\n",
       "      <th>var_199</th>\n",
       "      <th>target</th>\n",
       "    </tr>\n",
       "  </thead>\n",
       "  <tbody>\n",
       "    <tr>\n",
       "      <th>0</th>\n",
       "      <td>8.9255</td>\n",
       "      <td>-6.7863</td>\n",
       "      <td>11.9081</td>\n",
       "      <td>5.0930</td>\n",
       "      <td>11.4607</td>\n",
       "      <td>-9.2834</td>\n",
       "      <td>5.1187</td>\n",
       "      <td>18.6266</td>\n",
       "      <td>-4.9200</td>\n",
       "      <td>5.7470</td>\n",
       "      <td>...</td>\n",
       "      <td>3.9642</td>\n",
       "      <td>3.1364</td>\n",
       "      <td>1.6910</td>\n",
       "      <td>18.5227</td>\n",
       "      <td>-2.3978</td>\n",
       "      <td>7.8784</td>\n",
       "      <td>8.5635</td>\n",
       "      <td>12.7803</td>\n",
       "      <td>-1.0914</td>\n",
       "      <td>0</td>\n",
       "    </tr>\n",
       "    <tr>\n",
       "      <th>1</th>\n",
       "      <td>11.5006</td>\n",
       "      <td>-4.1473</td>\n",
       "      <td>13.8588</td>\n",
       "      <td>5.3890</td>\n",
       "      <td>12.3622</td>\n",
       "      <td>7.0433</td>\n",
       "      <td>5.6208</td>\n",
       "      <td>16.5338</td>\n",
       "      <td>3.1468</td>\n",
       "      <td>8.0851</td>\n",
       "      <td>...</td>\n",
       "      <td>7.7214</td>\n",
       "      <td>2.5837</td>\n",
       "      <td>10.9516</td>\n",
       "      <td>15.4305</td>\n",
       "      <td>2.0339</td>\n",
       "      <td>8.1267</td>\n",
       "      <td>8.7889</td>\n",
       "      <td>18.3560</td>\n",
       "      <td>1.9518</td>\n",
       "      <td>0</td>\n",
       "    </tr>\n",
       "    <tr>\n",
       "      <th>2</th>\n",
       "      <td>8.6093</td>\n",
       "      <td>-2.7457</td>\n",
       "      <td>12.0805</td>\n",
       "      <td>7.8928</td>\n",
       "      <td>10.5825</td>\n",
       "      <td>-9.0837</td>\n",
       "      <td>6.9427</td>\n",
       "      <td>14.6155</td>\n",
       "      <td>-4.9193</td>\n",
       "      <td>5.9525</td>\n",
       "      <td>...</td>\n",
       "      <td>9.7905</td>\n",
       "      <td>1.6704</td>\n",
       "      <td>1.6858</td>\n",
       "      <td>21.6042</td>\n",
       "      <td>3.1417</td>\n",
       "      <td>-6.5213</td>\n",
       "      <td>8.2675</td>\n",
       "      <td>14.7222</td>\n",
       "      <td>0.3965</td>\n",
       "      <td>0</td>\n",
       "    </tr>\n",
       "    <tr>\n",
       "      <th>3</th>\n",
       "      <td>11.0604</td>\n",
       "      <td>-2.1518</td>\n",
       "      <td>8.9522</td>\n",
       "      <td>7.1957</td>\n",
       "      <td>12.5846</td>\n",
       "      <td>-1.8361</td>\n",
       "      <td>5.8428</td>\n",
       "      <td>14.9250</td>\n",
       "      <td>-5.8609</td>\n",
       "      <td>8.2450</td>\n",
       "      <td>...</td>\n",
       "      <td>4.7433</td>\n",
       "      <td>0.7178</td>\n",
       "      <td>1.4214</td>\n",
       "      <td>23.0347</td>\n",
       "      <td>-1.2706</td>\n",
       "      <td>-2.9275</td>\n",
       "      <td>10.2922</td>\n",
       "      <td>17.9697</td>\n",
       "      <td>-8.9996</td>\n",
       "      <td>0</td>\n",
       "    </tr>\n",
       "    <tr>\n",
       "      <th>4</th>\n",
       "      <td>9.8369</td>\n",
       "      <td>-1.4834</td>\n",
       "      <td>12.8746</td>\n",
       "      <td>6.6375</td>\n",
       "      <td>12.2772</td>\n",
       "      <td>2.4486</td>\n",
       "      <td>5.9405</td>\n",
       "      <td>19.2514</td>\n",
       "      <td>6.2654</td>\n",
       "      <td>7.6784</td>\n",
       "      <td>...</td>\n",
       "      <td>9.5214</td>\n",
       "      <td>-0.1508</td>\n",
       "      <td>9.1942</td>\n",
       "      <td>13.2876</td>\n",
       "      <td>-1.5121</td>\n",
       "      <td>3.9267</td>\n",
       "      <td>9.5031</td>\n",
       "      <td>17.9974</td>\n",
       "      <td>-8.8104</td>\n",
       "      <td>0</td>\n",
       "    </tr>\n",
       "  </tbody>\n",
       "</table>\n",
       "<p>5 rows × 201 columns</p>\n",
       "</div>"
      ],
      "text/plain": [
       "     var_0   var_1    var_2   var_3    var_4   var_5   var_6    var_7   var_8  \\\n",
       "0   8.9255 -6.7863  11.9081  5.0930  11.4607 -9.2834  5.1187  18.6266 -4.9200   \n",
       "1  11.5006 -4.1473  13.8588  5.3890  12.3622  7.0433  5.6208  16.5338  3.1468   \n",
       "2   8.6093 -2.7457  12.0805  7.8928  10.5825 -9.0837  6.9427  14.6155 -4.9193   \n",
       "3  11.0604 -2.1518   8.9522  7.1957  12.5846 -1.8361  5.8428  14.9250 -5.8609   \n",
       "4   9.8369 -1.4834  12.8746  6.6375  12.2772  2.4486  5.9405  19.2514  6.2654   \n",
       "\n",
       "    var_9   ...    var_191  var_192  var_193  var_194  var_195  var_196  \\\n",
       "0  5.7470   ...     3.9642   3.1364   1.6910  18.5227  -2.3978   7.8784   \n",
       "1  8.0851   ...     7.7214   2.5837  10.9516  15.4305   2.0339   8.1267   \n",
       "2  5.9525   ...     9.7905   1.6704   1.6858  21.6042   3.1417  -6.5213   \n",
       "3  8.2450   ...     4.7433   0.7178   1.4214  23.0347  -1.2706  -2.9275   \n",
       "4  7.6784   ...     9.5214  -0.1508   9.1942  13.2876  -1.5121   3.9267   \n",
       "\n",
       "   var_197  var_198  var_199  target  \n",
       "0   8.5635  12.7803  -1.0914       0  \n",
       "1   8.7889  18.3560   1.9518       0  \n",
       "2   8.2675  14.7222   0.3965       0  \n",
       "3  10.2922  17.9697  -8.9996       0  \n",
       "4   9.5031  17.9974  -8.8104       0  \n",
       "\n",
       "[5 rows x 201 columns]"
      ]
     },
     "execution_count": 3,
     "metadata": {},
     "output_type": "execute_result"
    }
   ],
   "source": [
    "df.head()"
   ]
  },
  {
   "cell_type": "code",
   "execution_count": 4,
   "metadata": {
    "slideshow": {
     "slide_type": "slide"
    }
   },
   "outputs": [
    {
     "data": {
      "text/plain": [
       "(158443, 201)"
      ]
     },
     "execution_count": 4,
     "metadata": {},
     "output_type": "execute_result"
    }
   ],
   "source": [
    "df.shape"
   ]
  },
  {
   "cell_type": "code",
   "execution_count": 5,
   "metadata": {
    "slideshow": {
     "slide_type": "skip"
    }
   },
   "outputs": [],
   "source": [
    "import pandas_profiling"
   ]
  },
  {
   "cell_type": "code",
   "execution_count": 6,
   "metadata": {
    "slideshow": {
     "slide_type": "slide"
    }
   },
   "outputs": [
    {
     "data": {
      "text/html": [
       "<meta charset=\"UTF-8\">\n",
       "\n",
       "<style>\n",
       "\n",
       "        .variablerow {\n",
       "            border: 1px solid #e1e1e8;\n",
       "            border-top: hidden;\n",
       "            padding-top: 2em;\n",
       "            padding-bottom: 2em;\n",
       "            padding-left: 1em;\n",
       "            padding-right: 1em;\n",
       "        }\n",
       "\n",
       "        .headerrow {\n",
       "            border: 1px solid #e1e1e8;\n",
       "            background-color: #f5f5f5;\n",
       "            padding: 2em;\n",
       "        }\n",
       "        .namecol {\n",
       "            margin-top: -1em;\n",
       "            overflow-x: auto;\n",
       "        }\n",
       "\n",
       "        .dl-horizontal dt {\n",
       "            text-align: left;\n",
       "            padding-right: 1em;\n",
       "            white-space: normal;\n",
       "        }\n",
       "\n",
       "        .dl-horizontal dd {\n",
       "            margin-left: 0;\n",
       "        }\n",
       "\n",
       "        .ignore {\n",
       "            opacity: 0.4;\n",
       "        }\n",
       "\n",
       "        .container.pandas-profiling {\n",
       "            max-width:975px;\n",
       "        }\n",
       "\n",
       "        .col-md-12 {\n",
       "            padding-left: 2em;\n",
       "        }\n",
       "\n",
       "        .indent {\n",
       "            margin-left: 1em;\n",
       "        }\n",
       "\n",
       "        .center-img {\n",
       "            margin-left: auto !important;\n",
       "            margin-right: auto !important;\n",
       "            display: block;\n",
       "        }\n",
       "\n",
       "        /* Table example_values */\n",
       "            table.example_values {\n",
       "                border: 0;\n",
       "            }\n",
       "\n",
       "            .example_values th {\n",
       "                border: 0;\n",
       "                padding: 0 ;\n",
       "                color: #555;\n",
       "                font-weight: 600;\n",
       "            }\n",
       "\n",
       "            .example_values tr, .example_values td{\n",
       "                border: 0;\n",
       "                padding: 0;\n",
       "                color: #555;\n",
       "            }\n",
       "\n",
       "        /* STATS */\n",
       "            table.stats {\n",
       "                border: 0;\n",
       "            }\n",
       "\n",
       "            .stats th {\n",
       "                border: 0;\n",
       "                padding: 0 2em 0 0;\n",
       "                color: #555;\n",
       "                font-weight: 600;\n",
       "            }\n",
       "\n",
       "            .stats tr {\n",
       "                border: 0;\n",
       "            }\n",
       "\n",
       "            .stats td{\n",
       "                color: #555;\n",
       "                padding: 1px;\n",
       "                border: 0;\n",
       "            }\n",
       "\n",
       "\n",
       "        /* Sample table */\n",
       "            table.sample {\n",
       "                border: 0;\n",
       "                margin-bottom: 2em;\n",
       "                margin-left:1em;\n",
       "            }\n",
       "            .sample tr {\n",
       "                border:0;\n",
       "            }\n",
       "            .sample td, .sample th{\n",
       "                padding: 0.5em;\n",
       "                white-space: nowrap;\n",
       "                border: none;\n",
       "\n",
       "            }\n",
       "\n",
       "            .sample thead {\n",
       "                border-top: 0;\n",
       "                border-bottom: 2px solid #ddd;\n",
       "            }\n",
       "\n",
       "            .sample td {\n",
       "                width:100%;\n",
       "            }\n",
       "\n",
       "\n",
       "        /* There is no good solution available to make the divs equal height and then center ... */\n",
       "            .histogram {\n",
       "                margin-top: 3em;\n",
       "            }\n",
       "        /* Freq table */\n",
       "\n",
       "            table.freq {\n",
       "                margin-bottom: 2em;\n",
       "                border: 0;\n",
       "            }\n",
       "            table.freq th, table.freq tr, table.freq td {\n",
       "                border: 0;\n",
       "                padding: 0;\n",
       "            }\n",
       "\n",
       "            .freq thead {\n",
       "                font-weight: 600;\n",
       "                white-space: nowrap;\n",
       "                overflow: hidden;\n",
       "                text-overflow: ellipsis;\n",
       "\n",
       "            }\n",
       "\n",
       "            td.fillremaining{\n",
       "                width:auto;\n",
       "                max-width: none;\n",
       "            }\n",
       "\n",
       "            td.number, th.number {\n",
       "                text-align:right ;\n",
       "            }\n",
       "\n",
       "        /* Freq mini */\n",
       "            .freq.mini td{\n",
       "                width: 50%;\n",
       "                padding: 1px;\n",
       "                font-size: 12px;\n",
       "\n",
       "            }\n",
       "            table.freq.mini {\n",
       "                 width:100%;\n",
       "            }\n",
       "            .freq.mini th {\n",
       "                overflow: hidden;\n",
       "                text-overflow: ellipsis;\n",
       "                white-space: nowrap;\n",
       "                max-width: 5em;\n",
       "                font-weight: 400;\n",
       "                text-align:right;\n",
       "                padding-right: 0.5em;\n",
       "            }\n",
       "\n",
       "            .missing {\n",
       "                color: #a94442;\n",
       "            }\n",
       "            .alert, .alert > th, .alert > td {\n",
       "                color: #a94442;\n",
       "            }\n",
       "\n",
       "\n",
       "        /* Bars in tables */\n",
       "            .freq .bar{\n",
       "                float: left;\n",
       "                width: 0;\n",
       "                height: 100%;\n",
       "                line-height: 20px;\n",
       "                color: #fff;\n",
       "                text-align: center;\n",
       "                background-color: #337ab7;\n",
       "                border-radius: 3px;\n",
       "                margin-right: 4px;\n",
       "            }\n",
       "            .other .bar {\n",
       "                background-color: #999;\n",
       "            }\n",
       "            .missing .bar{\n",
       "                background-color: #a94442;\n",
       "            }\n",
       "            .tooltip-inner {\n",
       "                width: 100%;\n",
       "                white-space: nowrap;\n",
       "                text-align:left;\n",
       "            }\n",
       "\n",
       "            .extrapadding{\n",
       "                padding: 2em;\n",
       "            }\n",
       "\n",
       "            .pp-anchor{\n",
       "\n",
       "            }\n",
       "\n",
       "</style>\n",
       "\n",
       "<div class=\"container pandas-profiling\">\n",
       "    <div class=\"row headerrow highlight\">\n",
       "        <h1>Overview</h1>\n",
       "    </div>\n",
       "    <div class=\"row variablerow\">\n",
       "    <div class=\"col-md-6 namecol\">\n",
       "        <p class=\"h4\">Dataset info</p>\n",
       "        <table class=\"stats\" style=\"margin-left: 1em;\">\n",
       "            <tbody>\n",
       "            <tr>\n",
       "                <th>Number of variables</th>\n",
       "                <td>1 </td>\n",
       "            </tr>\n",
       "            <tr>\n",
       "                <th>Number of observations</th>\n",
       "                <td>158443 </td>\n",
       "            </tr>\n",
       "            <tr>\n",
       "                <th>Total Missing (%)</th>\n",
       "                <td>0.0% </td>\n",
       "            </tr>\n",
       "            <tr>\n",
       "                <th>Total size in memory</th>\n",
       "                <td>1.2 MiB </td>\n",
       "            </tr>\n",
       "            <tr>\n",
       "                <th>Average record size in memory</th>\n",
       "                <td>8.0 B </td>\n",
       "            </tr>\n",
       "            </tbody>\n",
       "        </table>\n",
       "    </div>\n",
       "    <div class=\"col-md-6 namecol\">\n",
       "        <p class=\"h4\">Variables types</p>\n",
       "        <table class=\"stats\" style=\"margin-left: 1em;\">\n",
       "            <tbody>\n",
       "            <tr>\n",
       "                <th>Numeric</th>\n",
       "                <td>0 </td>\n",
       "            </tr>\n",
       "            <tr>\n",
       "                <th>Categorical</th>\n",
       "                <td>0 </td>\n",
       "            </tr>\n",
       "            <tr>\n",
       "                <th>Boolean</th>\n",
       "                <td>1 </td>\n",
       "            </tr>\n",
       "            <tr>\n",
       "                <th>Date</th>\n",
       "                <td>0 </td>\n",
       "            </tr>\n",
       "            <tr>\n",
       "                <th>Text (Unique)</th>\n",
       "                <td>0 </td>\n",
       "            </tr>\n",
       "            <tr>\n",
       "                <th>Rejected</th>\n",
       "                <td>0 </td>\n",
       "            </tr>\n",
       "            <tr>\n",
       "                <th>Unsupported</th>\n",
       "                <td>0 </td>\n",
       "            </tr>\n",
       "            </tbody>\n",
       "        </table>\n",
       "    </div>\n",
       "    <div class=\"col-md-12\" style=\"padding-left: 1em;\">\n",
       "        \n",
       "        <p class=\"h4\">Warnings</p>\n",
       "        <ul class=\"list-unstyled\"><li>Dataset has 158441 duplicate rows <span class=\"label label-warning\">Warning</span></li> </ul>\n",
       "    </div>\n",
       "</div>\n",
       "    <div class=\"row headerrow highlight\">\n",
       "        <h1>Variables</h1>\n",
       "    </div>\n",
       "    <div class=\"row variablerow\">\n",
       "    <div class=\"col-md-3 namecol\">\n",
       "        <p class=\"h4 pp-anchor\" id=\"pp_var_target\">target<br/>\n",
       "            <small>Boolean</small>\n",
       "        </p>\n",
       "    </div><div class=\"col-md-6\">\n",
       "    <div class=\"row\">\n",
       "        <div class=\"col-sm-6\">\n",
       "            <table class=\"stats \">\n",
       "                <tr class=\"\">\n",
       "                    <th>Distinct count</th>\n",
       "                    <td>2</td>\n",
       "                </tr>\n",
       "                <tr>\n",
       "                    <th>Unique (%)</th>\n",
       "                    <td>0.0%</td>\n",
       "                </tr>\n",
       "                <tr class=\"ignore\">\n",
       "                    <th>Missing (%)</th>\n",
       "                    <td>0.0%</td>\n",
       "                </tr>\n",
       "                <tr class=\"ignore\">\n",
       "                    <th>Missing (n)</th>\n",
       "                    <td>0</td>\n",
       "                </tr>\n",
       "            </table>\n",
       "        </div>\n",
       "        <div class=\"col-sm-6\">\n",
       "            <table class=\"stats \">\n",
       "                <tr>\n",
       "                    <th>Mean</th>\n",
       "                    <td>0.10103</td>\n",
       "                </tr>\n",
       "            </table>\n",
       "        </div>\n",
       "    </div>\n",
       "</div>\n",
       "<div class=\"col-md-3 collapse in\" id=\"minifreqtable-6416583920916107262\">\n",
       "    <table class=\"mini freq\">\n",
       "        <tr class=\"\">\n",
       "    <th>0</th>\n",
       "    <td>\n",
       "        <div class=\"bar\" style=\"width:100%\" data-toggle=\"tooltip\" data-placement=\"right\" data-html=\"true\"\n",
       "             data-delay=500 title=\"Percentage: 89.9%\">\n",
       "            142436\n",
       "        </div>\n",
       "        \n",
       "    </td>\n",
       "</tr><tr class=\"\">\n",
       "    <th>1</th>\n",
       "    <td>\n",
       "        <div class=\"bar\" style=\"width:12%\" data-toggle=\"tooltip\" data-placement=\"right\" data-html=\"true\"\n",
       "             data-delay=500 title=\"Percentage: 10.1%\">\n",
       "            &nbsp;\n",
       "        </div>\n",
       "        16007\n",
       "    </td>\n",
       "</tr>\n",
       "    </table>\n",
       "</div>\n",
       "<div class=\"col-md-12 text-right\">\n",
       "    <a role=\"button\" data-toggle=\"collapse\" data-target=\"#freqtable-6416583920916107262, #minifreqtable-6416583920916107262\"\n",
       "        aria-expanded=\"true\" aria-controls=\"collapseExample\">\n",
       "        Toggle details\n",
       "    </a>\n",
       "</div>\n",
       "<div class=\"col-md-12 extrapadding collapse\" id=\"freqtable-6416583920916107262\">\n",
       "    \n",
       "<table class=\"freq table table-hover\">\n",
       "    <thead>\n",
       "    <tr>\n",
       "        <td class=\"fillremaining\">Value</td>\n",
       "        <td class=\"number\">Count</td>\n",
       "        <td class=\"number\">Frequency (%)</td>\n",
       "        <td style=\"min-width:200px\">&nbsp;</td>\n",
       "    </tr>\n",
       "    </thead>\n",
       "    <tr class=\"\">\n",
       "        <td class=\"fillremaining\">0</td>\n",
       "        <td class=\"number\">142436</td>\n",
       "        <td class=\"number\">89.9%</td>\n",
       "        <td>\n",
       "            <div class=\"bar\" style=\"width:100%\">&nbsp;</div>\n",
       "        </td>\n",
       "</tr><tr class=\"\">\n",
       "        <td class=\"fillremaining\">1</td>\n",
       "        <td class=\"number\">16007</td>\n",
       "        <td class=\"number\">10.1%</td>\n",
       "        <td>\n",
       "            <div class=\"bar\" style=\"width:12%\">&nbsp;</div>\n",
       "        </td>\n",
       "</tr>\n",
       "</table>\n",
       "</div>\n",
       "</div>\n",
       "    <div class=\"row headerrow highlight\">\n",
       "        <h1>Correlations</h1>\n",
       "    </div>\n",
       "    <div class=\"row variablerow\">\n",
       "    <img src=\"data:image/png;base64,iVBORw0KGgoAAAANSUhEUgAAAlMAAAIICAYAAABKCGvcAAAABHNCSVQICAgIfAhkiAAAAAlwSFlzAAAPYQAAD2EBqD%2BnaQAAADl0RVh0U29mdHdhcmUAbWF0cGxvdGxpYiB2ZXJzaW9uIDIuMi4zLCBodHRwOi8vbWF0cGxvdGxpYi5vcmcvIxREBQAAIABJREFUeJzt3XtUlWXC/vFrI3JQVDyAilSKhRgpIiRWlEZW2lQexmR08pBmNQmVpRbZQStHR%2B1tmThNOtlo2kSoWaOWjdY0ndRCxNTwJ6DmETaelbPs3x%2B%2B7rcdoFtvFPD5ftZiBfdz2Df3WsXVdT9sbA6HwyEAAABcFI%2BangAAAEBdRpgCAAAwQJgCAAAwQJgCAAAwQJgCAAAwQJgCAAAwQJgCAAAwQJgCAAAwQJgCAAAw4FnTEwBwxt69e3XHHXdUebx%2B/fry8/NT27Zt1bNnTz344IPy8/O7jDMEAFTGxp%2BTAWqHX4ep0NDQCkGptLRUhw8f1r59%2ByRJQUFB%2Bsc//qFrrrnmss8VAPB/CFNALfHrMLVw4ULFxMRUet769ev1%2BOOP6%2BTJk4qMjNQHH3xwOacJAPgNnpkC6piYmBg9/fTTkqT09HRt2bKlhmcEANZGmALqoDvvvNP5eUZGRg3OBADAA%2BhAHdSoUSPn56dOnXI59sMPP%2Bi9997Txo0bdfToUTVu3FhdunTR0KFDddNNN1V6v%2BPHj%2BuDDz7QV199paysLJ08eVK%2Bvr66%2Buqrdfvtt2vYsGFq0qSJyzUdOnSQJH377beaNm2a1q5dKw8PD4WHh2v%2B/Pny9PRURkaG3n33XaWlpenw4cNq0KCB2rVrp169emnIkCGVPkBfVFSkDz74QKtWrVJWVpZKS0vVsmVL3XzzzRo5cqTatm3rcv769es1bNgwRUREaPHixXrvvfe0fPly7d69W/Xr19f111%2BvYcOGqVevXhez1ABwXoQpoA7avXu38/NWrVo5P585c6bmzZsnSWrSpIlCQ0OVl5entWvXau3atRo9erTGjRvncq9du3ZpxIgROnDggDw9PXX11VerTZs22rdvn7Zu3aqtW7dq5cqVWrp0qRo2bFhhLomJiUpPT1doaKgOHz6sgIAAeXp66vPPP9fYsWNVVlampk2bqkOHDjp16pQ2b96sjIwMffLJJ/rggw9cAtXBgwf10EMPKScnR5LUtm1bNWzYUNnZ2UpJSdHy5cs1bdo03XPPPRXmUVpaqtGjR%2Bv7779X06ZN1b59e%2B3cuVPr16/X%2BvXrNWnSJA0ePNhs4QGgMg4AtcKePXscoaGhjtDQUMe6devOee6ECRMcoaGhjvDwcIfdbnc4HA7HP//5T0doaKgjOjra8fHHHzvPLS8vd6xcudLRpUsXR2hoqOPDDz90udeDDz7oCA0NdQwaNMiRm5vrct1HH33kCAsLc4SGhjoWLVrkct3Zud5www2ODRs2OBwOh%2BP06dOOI0eOOE6fPu245ZZbHKGhoY558%2BY5ysrKnNdt2bLF0b17d0doaKjj7bffdo6XlZU5%2Bvbt6wgNDXXcfffdjp9//tl57MSJE46JEyc6v%2BdNmzY5j61bt845ly5dujg%2B%2BeQT57Hjx487hg8f7ggNDXV069bNUVpaes51BYCLwTNTQB1RVFSkbdu26eWXX9by5cslSSNGjFCLFi1UUlKi2bNnS5L%2B/Oc/6/7773deZ7PZdM8992j8%2BPGSpNmzZ6usrEySlJ%2Bfrx07dkiSXn31VQUGBrpc169fP3Xr1k2StH379krn1adPH914442SJA8PD/n7%2B%2Bvw4cOy2%2B2SpEGDBqlevXrO88PDwzV27Fj16tVL/v7%2BzvHPPvtMP//8s7y9vTVv3jyFhYU5j/n5%2Bem1117TrbfeqtLSUr3xxhuVzuWJJ57Qfffd5/y6UaNGzu/76NGj2rlzZxWrCwAXj20%2BoBYaNmzYec954IEH9OSTT0o681t9%2Bfn5atiwYZVv/Hn//ffr1VdfVW5urrZt26bOnTurRYsWWrdunYqKiuTj41PhmtOnTzu34YqKiiq9b1RUVIWxpk2bqkmTJjp27JjGjRunP/3pT4qIiJCHx5n/fxs0aJAGDRrkcs0XX3whSYqLi9NVV11V6Ws99NBD%2Bvrrr7VhwwadOHHC5dkxSbr99tsrXNO%2BfXvn58ePH6/0vgBggjAF1EK/fdNOm80mb29v%2Bfv7q0OHDurVq5euvfZa5/Gz7VJpaan%2B%2BMc/VnnfevXqqby8XDk5OercubNz3MfHR/v27dNPP/2kX375RXv27FF2drZ%2B/vlnFRQUSJLKy8srvWdAQEClrzNu3Di9%2BOKL%2Buqrr/TVV1%2BpSZMmiomJ0S233KKePXu6POslydkahYeHVzn/s8dOnz6t3bt364YbbnA53rJlywrX/Doknj59usp7A8DFIkwBtdALL7xQ5Zt2VubEiROSpJKSEm3cuPG85/%2B6ocnJydHLL7%2BsDRs2uJzj5%2Ben6Oho5eXlKTMzs8p7VdZoSWfap2uuuUbvvvuuvvvuOx07dkyff/65Pv/8c9lsNvXo0UOTJ092hqqTJ09KUoW26bdzOuu3v8UonfmTO%2Bfi4D2KAVwChCngCuDr6yvpTHOzbNkyt687dOiQHnzwQR06dEhBQUEaNGiQrr/%2BeoWEhCg4OFg2m03PPPPMOcPUucTExCgmJkZFRUX68ccf9cMPP%2Bjrr7/W1q1b9Z///EePPvqoli9fLpvN5vxNwbPBsDK/DoGV/WYhANQEwhRwBWjXrp2kM29zUFZWJk/Piv9qOxwOrV%2B/Xq1atVJQUJC8vLy0dOlSHTp0SP7%2B/lq6dKmaNWtW4brc3NwLnk9JSYn27NmjkydPKiIiQj4%2BPoqNjVVsbKzGjh2rlStX6umnn1ZmZqa2b9%2BusLAwhYSEaNu2bdq6dWuV9/3pp58kndn2vPrqqy94XgBwKfDbfMAV4MYbb1SjRo106tSpKpupf/3rXxo%2BfLj69OmjgwcPSjrz9wClM380ubIglZWVpU2bNkm6sOeN/vvf/%2Bqee%2B7RI488opKSkgrHb775ZufnZ%2B979uHxL774Qnv27Kn0vgsXLpQkdenSRY0bN3Z7PgBwKRGmgCtAgwYN9Mgjj0iSpkyZoqVLl7o8ML5mzRq9/PLLks68lcHZVickJESSlJmZqdWrVzvPdzgc%2Bu9//6uHH35YpaWlkqTCwkK353PbbbepadOmOnr0qJ599lkdPXrUeezkyZP6y1/%2BIklq3bq1rrvuOklS79691aFDBxUXF2v06NEuW4snT57Uiy%2B%2BqG%2B%2B%2BUaenp4V3ngUAGoS23zAFWL06NHas2ePPvzwQz3//POaMWOGgoODlZubq7y8PEln3sZgypQpzmsGDhyo999/X7t379YTTzyhNm3aqGnTpjpw4IAOHTqk%2BvXrq1u3btqwYcMFbfd5eXlp1qxZGjVqlFatWqW1a9fq6quvloeHh/bs2aOCggL5%2Bvpq2rRp8vLykiR5enrqr3/9q0aPHq2cnBz17dvX5R3Qz759w%2BTJkxUdHV29iwcABghTwBXCZrPp1Vdf1d13360PPvhAmzZtcr4JZpcuXXTvvfcqPj7eGV6kM78dt2TJEs2bN09ffvml9u7dq/z8fLVq1Uo9e/bU8OHD1aBBA/Xq1UuZmZnav3%2B/goKC3JpPTEyMUlNTnX%2Bbb9euXfL09FSrVq0UGxurkSNHVrhXcHCwli5dqn/%2B85/67LPPlJ2drYMHD6p169a69dZb9cc//rHC3%2BYDgJpmc/C7wgAAABeNZ6YAAAAMEKYAAAAMEKYAAECtVVJSonvvvVfr16%2Bv8pxt27bpgQceUEREhH7/%2B99ry5YtLsdXrFihXr16KSIiQmPGjNHhw4erdY6EKQAAUCsVFxfr6aefdv790coUFBTokUceUXR0tJYtW6bIyEg9%2Buijzr8runnzZk2cOFEJCQlKSUnR8ePHlZSUVK3zJEwBAIBaJysrS4MGDdIvv/xyzvNWrVolb29vTZgwQe3bt9fEiRPVsGFDffbZZ5KkRYsWqU%2BfPurXr5/CwsI0ffp0ffXVV1W%2BOfDFIEwBAIBaZ8OGDYqJiVFKSso5z8vIyFBUVJRsNpukM28T07VrV%2Bdfb8jIyHB5b7rWrVsrKChIGRkZ1TZX3mcKAABUu7y8PNntdpexgIAABQYGunX9kCFD3DrPbrfr2muvdRlr3ry5c2swLy%2Bvwms2b97c%2BWe1qoP1wtT/JlcAhtq1k3bskK67Ttq5s6ZnA9R9Nfm2j5fgZ2PKm28qOTnZZSwhIUGJiYnV%2BjqFhYUub0YsnfkrDGf/LmhRUdE5j1cH64UpANXD31%2BqV%2B/MPwHgN%2BLj4xUXF%2BcyFhAQUO2v4%2B3tXSEYlZSUyMfH55zHfX19q20OhCkAAKzOo/ofoQ4MDHR7S89Ey5YtlZ%2Bf7zKWn5/vfO2qjldnsOMBdAAAUGdFREQoPT1dZ/86nsPh0MaNGxUREeE8npaW5jz/wIEDOnDggPN4dSBMAQBgdR4e1f9xCdntdhUVFUmSevfurePHj2vKlCnKysrSlClTVFhYqD59%2BkiSBg8erI8//lipqanKzMzUhAkT1LNnT1111VXVNh/CFAAAqFNiY2O1atUqSZKfn5/efvttpaWlacCAAcrIyNDcuXPVoEEDSVJkZKReeeUVzZkzR4MHD1aTJk00derUap2PzeGoyV8fqAH8Nh9QPSIjpY0bpa5dpfT0mp4NUPfV5I9jb%2B/qv2dxcfXfs5biAXQAAKzuEm/LXelYPQAAAAM0UwAAWB3NlBFWDwAAwADNFAAAVkczZYQwBQCA1RGmjLB6AAAABmimAACwOpopI6weAACAAZopAACsjmbKCGEKAACrI0wZYfUAAAAM0EwBAGB1NFNGWD0AAAADNFMAAFgdzZQRwhQAAFZHmDLC6gEAABigmQIAwOpopoywegAAAAZopgAAsDqaKSOEKQAArI4wZYTVAwAAMEAzBQCA1dFMGWH1AAAADNBMAQBgdTRTRghTAABYHWHKCKsHAABggGYKAACro5kywuoBAAAYoJkCAMDqaKaMEKYAALA6wpQRVg8AAMAAzRQAAFZHM2WEMAUAgNURpoywegAAAAZopgAAsDqaKSOsHgAAgAGaKQAArI5myghhCgAAqyNMGWH1AAAADNBMAQBgdTRTRghTAACg1ikuLtbkyZP1%2Beefy8fHRyNHjtTIkSMrnDd06FBt2LChwviAAQM0depUHTt2TN26dXM55u/vr/Xr11fbXAlTAABYXS1spqZPn64tW7ZowYIF2r9/v5599lkFBQWpd%2B/eLufNnj1bpaWlzq8zMjL01FNPaciQIZKkrKws%2Bfv7a8WKFc5zPKr5%2ByVMAQBgdbUsTBUUFCg1NVXz5s1TeHi4wsPDtWPHDi1evLhCmPL393d%2Bfvr0ab3xxht6%2BOGH1alTJ0lSTk6O2rVrp4CAgEs239q1egAAwPIyMzNVVlamyMhI51hUVJQyMjJUXl5e5XXLli3TsWPHNHr0aOdYVlaW2rZteymnSzMFAIDlXYJmKi8vT3a73WUsICBAgYGB573WbreradOm8vLyco61aNFCxcXFOnr0qJo1a1bhGofDob///e8aNmyYGjZs6BzPzs5WWVmZBg4cqNzcXEVHRyspKcmtebiLMAUAAKpdSkqKkpOTXcYSEhKUmJh43msLCwtdgpQk59clJSWVXrN%2B/XodPHhQgwYNchnPyclRs2bNlJSUJIfDoTfeeEOPPfaYUlNTVa9evQv5lqpEmAIAwOouQTMVHx%2BvuLg4lzF3n1vy9vauEJrOfu3j41PpNatXr9Ztt93m8gyVJK1cuVI2m8153ZtvvqnY2FhlZGSoa9eubs3nfAhTAABY3SUIU4GBgRe9ldayZUsdOXJEZWVl8vQ8E1Xsdrt8fHzUuHHjSq/5%2BuuvlZCQUGHc19fX5evmzZvL399fubm5FzW3yvAAOgAAqFU6duwoT09Pbdq0yTmWlpamTp06Vfq2BocPH9aePXsUFRXlMn7y5EndeOONWrdunXMsNzdXR44cUUhISLXNlzAFAIDVeXhU/4cBX19f9evXT5MmTdLmzZu1Zs0azZ8/X8OGDZN0pqUqKipynr9jxw55e3srODjY5T5%2Bfn6KiorS1KlTtXnzZm3dulVjx47Vrbfeqg4dOhjN8dcIUwAAoNZJSkpSeHi4hg8frsmTJysxMVF33XWXJCk2NlarVq1ynnvo0CE1btxYNputwn3%2B8pe/6Prrr9cjjzyioUOHqk2bNpo5c2a1ztXmcDgc1XrH2q6ShQZwESIjpY0bpa5dpfT0mp4NUPfV5I/ju%2B%2Bu/nuuXl3996yleAAdAACrq2XvgF7XsHoAAAAGaKYAALA6mikjrB4AAIABmikAAKyOZsoIYQoAAKsjTBlh9QAAAAzQTAEAYHU0U0ZYPQAAAAM0UwAAWB3NlBHCFAAAVkeYMsLqAQAAGKCZAgDA6mimjLB6AAAABmimAACwOpopI4QpAACsjjBlhNUDAAAwQDMFAIDV0UwZYfUAAAAM0EwBAGB1NFNGCFMAAFgdYcoIqwcAAGCAZgoAAKujmTLC6gEAABigmQIAwOpopowQpgAAsDrClBFWDwAAwADNFAAAVkczZYQwBQCA1RGmjLB6AAAABmimAACwOpopI6weAACAAZopAACsjmbKCGEKAACrI0wZYfUAAAAM0EwBAGB1NFNGWD0AAAADNFMAAFgdzZQRwhQAAFZHmDLC6gEAABigmQIAwOpopoywegAAoNYpLi7W888/r%2BjoaMXGxmr%2B/PlVnvunP/1JHTp0cPn48ssvncf/8Y9/6NZbb1VkZKSef/55FRYWVutcaaYAALC6WthMTZ8%2BXVu2bNGCBQu0f/9%2BPfvsswoKClLv3r0rnJudna0ZM2bopptuco41adJEkrR69WolJydrxowZat68uZKSkjRjxgy99NJL1TZXwhQAAFZXy8JUQUGBUlNTNW/ePIWHhys8PFw7duzQ4sWLK4SpkpIS7d27V506dVJAQECFey1cuFDDhw/X7bffLkmaPHmyRo0apfHjx8vX17da5lu7Vg8AAFheZmamysrKFBkZ6RyLiopSRkaGysvLXc7NycmRzWbTVVddVeE%2Bp0%2Bf1k8//aTo6GjnWJcuXVRaWqrMzMxqmy/NFAAAVncJmqm8vDzZ7XaXsYCAAAUGBp73WrvdrqZNm8rLy8s51qJFCxUXF%2Bvo0aNq1qyZczwnJ0d%2Bfn6aMGGCNmzYoFatWikxMVE9evTQ8ePHVVxc7PKanp6e8vf318GDB6vhu/zfe1bbnQAAAP5XSkqKkpOTXcYSEhKUmJh43msLCwtdgpQk59clJSUu4zk5OSoqKlJsbKweeeQR/fvf/9af/vQnpaSkqEWLFi7X/vpev72PCcIUAABWdwmaqfj4eMXFxbmMVfZMU2W8vb0rhJ2zX/v4%2BLiMP/744xo6dKjzgfOwsDBt3bpVH374ocaOHety7a/vVV3PS0mEKQAAcAnCVGBgoFtbepVp2bKljhw5orKyMnl6nokqdrtdPj4%2Baty4scu5Hh4eziB1VkhIiLKysuTv7y9vb2/l5%2Berffv2kqSysjIdPXrU7WDnDh5ABwAAtUrHjh3l6empTZs2OcfS0tLUqVMnefwm%2BD333HNKSkpyGcvMzFRISIg8PDzUqVMnpaWlOY9t2rRJnp6eCgsLq7b5EqYAALA6D4/q/zDg6%2Burfv36adKkSdq8ebPWrFmj%2BfPna9iwYZLOtFRFRUWSpLi4OP3rX//S8uXLtXv3biUnJystLU0PPvigJGnIkCF65513tGbNGm3evFmTJk3SoEGD2OYDAABXtqSkJE2aNEnDhw%2BXn5%2BfEhMTddddd0mSYmNjNXXqVA0YMEB33XWXXn75Zb311lvav3%2B/rrvuOv39739XcHCwJOl3v/ud9u3bp5deekklJSW66667NH78%2BGqdq83hcDiq9Y61nc1W0zMArgyRkdLGjVLXrlJ6ek3PBqj7avLH8dSp1X/P32y9XclopgAAsLpa9g7odQ2rBwAAYIBmCgAAq6OZMsLqAQAAGKCZAgDA6mimjBCmAACwOsKUEVYPAADAAM0UAABWRzNlhNUDAAAwQDMFAIDV0UwZIUwBAGB1hCkjrB4AAIABmikAAKyOZsoIqwcAAGCAZgoAAKujmTJCmAIAwOoIU0ZYPQAAAAM0UwAAWB3NlBHCFAAAVkeYMsLqAQAAGKCZAgDA6mimjLB6AAAABmimAACwOpopI4QpAACsjjBlhNUDAAAwQDMFAIDV0UwZYfUAAAAM0EwBAGB1NFNGCFMAAFgdYcoIqwcAAGCAZgoAAKujmTLC6gEAABigmQIAwOpopowQpgAAsDrClBFWDwAAwADNFAAAVkczZYTVAwAAMEAzBQCA1dFMGSFMAQBgdYQpI6weAACAAZopAACsjmbKCKsHAABqneLiYj3//POKjo5WbGys5s%2BfX%2BW5//nPf9S3b19FRkbqvvvu09q1a12OR0dHq0OHDi4fp06dqra50kwBAGB1tbCZmj59urZs2aIFCxZo//79evbZZxUUFKTevXu7nJeZmamEhARNmDBBPXr00DfffKMnn3xSS5YsUVhYmHJzc3XixAmtWbNGPj4%2BzusaNGhQbXMlTAEAYHW1LEwVFBQoNTVV8%2BbNU3h4uMLDw7Vjxw4tXry4QphasWKFunfvrmHDhkmSrrnmGn3xxRf69NNPFRYWpuzsbAUEBOiqq666ZPMlTAEAgFolMzNTZWVlioyMdI5FRUXpb3/7m8rLy%2BXxq/DXv39/lZaWVrjHiRMnJElZWVlq167dJZ0vYQoAAKu7BM1UXl6e7Ha7y1hAQIACAwPPe63dblfTpk3l5eXlHGvRooWKi4t19OhRNWvWzDnevn17l2t37Nih77//Xn/4wx8kSdnZ2SosLNTQoUO1c%2BdOdezYUc8//3y1BizCFAAAqHYpKSlKTk52GUtISFBiYuJ5ry0sLHQJUpKcX5eUlFR53eHDh5WYmKiuXbvqjjvukCTl5OTo2LFjevrpp%2BXn56d58%2BZpxIgRWrlypfz8/C7026oUYQoAAKu7BM1UfHy84uLiXMYCAgLcutbb27tCaDr79a8fIv%2B1/Px8PfTQQ3I4HHrzzTedW4HvvPOOSktL1bBhQ0nSzJkz1aNHD3355Ze67777Luh7qgphCgAAq7sEYSowMNCtLb3KtGzZUkeOHFFZWZk8Pc9EFbvdLh8fHzVu3LjC%2Bbm5uc4H0BcuXOiyDejl5eXScnl7eys4OFi5ubkXNbfK1K7H9wEAgOV17NhRnp6e2rRpk3MsLS1NnTp1cnn4XDrzm38PP/ywPDw8tGjRIrVs2dJ5zOFwqFevXlq2bJnL%2Bbt371ZISEi1zZdmCgAAq6tlb43g6%2Burfv36adKkSfrzn/%2BsvLw8zZ8/X1OnTpV0pqVq1KiRfHx89Pbbb%2BuXX37Re%2B%2B95zwmndkObNSokXr27KnZs2erTZs2atasmWbNmqVWrVqpR48e1TZfwhQAAKh1kpKSNGnSJA0fPlx%2Bfn5KTEzUXXfdJUmKjY3V1KlTNWDAAK1evVpFRUV64IEHXK7v37%2B/pk2bpvHjx8vT01PPPPOMTp48qe7du2vu3LmqV69etc3V5nA4HNV2t7rAZqvpGQBXhshIaeNGqWtXKT29pmcD1H01%2BeP4%2B%2B%2Br/5433VT996ylaKYAALC6WrbNV9ewegAAAAZopgAAsDqaKSOsHgAAgAGaKQAArI5myghhCgAAqyNMGWH1AAAADNBMAQBgdTRTRghTAABYHWHKCKsHAABggGYKAACro5kywuoBAAAYoJkCAMDqaKaMEKYAALA6wpQRVg8AAMAAzRQAAFZHM2WE1QMAADBAMwUAgNXRTBkhTAEAYHWEKSOsHgAAgAGaKQAArI5mygirBwAAYIBmCgAAq6OZMkKYAgDA6ghTRlg9AAAAAzRTAABYHc2UEVYPAADAAM0UAABWRzNlhDAFAIDVEaaMsHoAAAAGaKYAALA6mikjrB4AAIABmikAAKyOZsoIYQoAAKsjTBlh9QAAAAzQTAEAYHU0U0ZYPQAAAAM0UwAAWB3NlBHCFAAAVkeYMsLqAQAAGKCZAgDA6mimjFzQ6v3888/auHHjpZrLOX366ac6dOhQjbw2AAC4vIqLi/X8888rOjpasbGxmj9/fpXnbtu2TQ888IAiIiL0%2B9//Xlu2bHE5vmLFCvXq1UsREREaM2aMDh8%2BXK1zvaAwNWbMGO3atataJ%2BCOffv26amnnlJhYeFlf20AAK54Hh7V/2Fo%2BvTp2rJlixYsWKCXX35ZycnJ%2BuyzzyqcV1BQoEceeUTR0dFatmyZIiMj9eijj6qgoECStHnzZk2cOFEJCQlKSUnR8ePHlZSUZDy/X6sTvZ7D4ajpKQAAcOWqZWGqoKBAqampmjhxosLDw3XnnXfq4Ycf1uLFiyucu2rVKnl7e2vChAlq3769Jk6cqIYNGzqD16JFi9SnTx/169dPYWFhmj59ur766ivt2bPHaI6/5vZ3O3ToUO3bt09JSUl67rnntHbtWvXr10%2BdOnVSdHS0nn76aZ06dUqSNHv2bD3%2B%2BOP64x//qG7dumnDhg0qKirSxIkTFRUVpVtvvVWpqam6/vrrtXfvXknSgQMH9NhjjykiIkJxcXFKTk7W6dOnJUl33HGH85/Lli2rtm8eAADUPpmZmSorK1NkZKRzLCoqShkZGSovL3c5NyMjQ1FRUbLZbJIkm82mrl27atOmTc7j0dHRzvNbt26toKAgZWRkVNt83X4Affbs2erbt69GjhypmJgYDRw4UC%2B99JJuvvlm7dq1S%2BPGjdOHH36ohx56SJK0du1aTZo0SV26dFG7du302muvKT09Xe%2B8847Kyso0ceJEZ1hyOBxKSEhQWFiYPvroI9ntdr300kuy2WwaM2aMUlNT9cADDyg1NVWhoaFuf3N5eXmy2%2B0uYwHt2inQ39/tewCoQliY6z8B1F2X4AH0Sn8GBwQoMDDwvNfa7XY1bdpUXl5ezrEWLVqouLhYR48eVbNmzVzOvfbaa12ub968uXbs2OGcx29fs3nz5jp48OAFf09VcTtM%2Bfv7q169emrUqJF8fHz0wgsvaNBsA9euAAAcmElEQVSgQZKk4OBg3Xzzzc6JS2e%2B6cGDB0uSTp06peXLl2vevHnq0qWLJOmFF17Qww8/LElat26d9u/fr9TUVHl4eCgkJETPPvuskpKSNGbMGOeiNWvWTD4%2BPm5/cykpKUpOTnYZS3jySSU%2B%2BaTb9wBwHu%2B/X9MzAFALVfozOCFBiYmJ5722sLDQJUhJcn5dUlLi1rlnzysqKjrn8epwUW%2BN0LZtW3l5eemtt97Sjh07tGPHDmVlZalv377Oc9q0aeP8PCcnR6WlperUqZNz7NfVXXZ2to4ePaqoqCjnWHl5uYqKinTkyJGLmaIkKT4%2BXnFxcS5jAffdJy1YcNH3BPC/wsLOBKkhQ6TMzJqeDVD31dBvy0uSQ7Zqv2elP4MDAty61tvbu0LYOfv1b0uVqs49e15Vx319fd2aizsuKkxlZmZq8ODBiouLU3R0tEaMGKEFvwko3t7e//cinhVf5tcPlZeVlSkkJER//etfK5zXqFEj57NYFyowMLBinbhz50XdC0AVMjOl9PSangUAA795DKlaVPoz2E0tW7bUkSNHVFZW5swQdrtdPj4%2Baty4cYVz8/PzXcby8/Odr13VcXeDnTsuapP0448/1o033qjXX39dQ4YMUefOnbV79%2B4qf%2Bvu6quvVv369V3e9%2BHXn7dr10779%2B9Xs2bNdM011%2Biaa67R3r179eabb8pmszkfKgMAAFe%2Bjh07ytPT0/kQuSSlpaWpU6dO8vjN810RERFKT093ZhCHw6GNGzcqIiLCeTwtLc15/oEDB3TgwAHn8epwQWGqQYMGysnJUePGjbV9%2B3Zt3rxZO3fu1LRp0/TTTz9Vuf/YsGFDDRgwQFOmTFFGRoY2bdqkKVOmSDrz1H1sbKzatGmj8ePHa/v27frxxx/14osvytfXV/Xq1XNWcZmZmRfdUgEAgMqVl1f/hwlfX1/169dPkyZN0ubNm7VmzRrNnz9fw4YNk3SmpSoqKpIk9e7dW8ePH9eUKVOUlZWlKVOmqLCwUH369JEkDR48WB9//LFSU1OVmZmpCRMmqGfPnrrqqqvMJvkrFxSmBg8erMWLF2vLli3q0qWLRowYoSFDhmj//v0aM2aMtm3bVuW1zz77rDp06KARI0YoMTFR9957rySpfv36qlevnt566y2Vl5dr0KBBSkxMVI8ePfTCCy9IOvPg%2Bf3336%2BnnnpKqampBt8uAACoC5KSkhQeHq7hw4dr8uTJSkxM1F133SVJio2N1apVqyRJfn5%2Bevvtt5WWlqYBAwYoIyNDc%2BfOVYMGDSSdeUb7lVde0Zw5czR48GA1adJEU6dOrda52hyX6R0x16xZo5tuukkNGzaUdOYdSYcMGaL09HTVr1//ckzhDLYMgeoRGXnmgdmuXXlmCqgONfgG1cXF1X/PXz06fcW7bH/oODk5WV9%2B%2BaUeeeQRnTp1SjNmzFBcXNzlDVIAAKCCS/EAupVctj8nM3PmTO3du1f9%2BvXTQw89pODgYOdzUwAAAHXVZWumrr322gpvnwAAAGoezZSZyxamAABA7USYMnPZtvkAAACuRDRTAABYHM2UGZopAAAAAzRTAABYHM2UGcIUAAAWR5gywzYfAACAAZopAAAsjmbKDM0UAACAAZopAAAsjmbKDGEKAACLI0yZYZsPAADAAM0UAAAWRzNlhmYKAADAAM0UAAAWRzNlhjAFAIDFEabMsM0HAABggGYKAACLo5kyQzMFAABggGYKAACLo5kyQ5gCAMDiCFNm2OYDAAAwQDMFAIDF0UyZoZkCAAAwQDMFAIDF0UyZIUwBAGBxhCkzbPMBAAAYoJkCAMDiaKbM0EwBAAAYoJkCAMDiaKbMEKYAALA4wpQZtvkAAAAM0EwBAGBxNFNmaKYAAAAM0EwBAGBxNFNmCFMAAFgcYcoM23wAAAAGaKYAALA4mikzNFMAAKBOcTgcmjlzprp3765u3bpp%2BvTpKj9HIty0aZP%2B8Ic/KDIyUnfffbdSU1Ndjt9///3q0KGDy8f/%2B3//z%2B350EwBAGBxda2Zevfdd7VixQolJyerrKxM48ePV/PmzTVq1KgK59rtdo0ePVqDBw/WtGnTtHXrViUlJSkgIEA9e/bU6dOntWvXLi1atEht27Z1Xte0aVO350OYAgDA4upamFq4cKGeeOIJRUdHS5LGjRunWbNmVRqm1qxZoxYtWujpp5%2BWJLVt21br16/Xv/71L/Xs2VN79%2B5VaWmpOnfuLG9v74uaD2EKAADUGbm5uTpw4IBuvPFG51hUVJT27dunvLw8BQYGupx/6623qmPHjhXuc/LkSUlSVlaWWrdufdFBSiJMAQBgeZeimcrLy5PdbncZCwgIqBB2LtTZe/76Pi1atJAkHTx4sML9g4ODFRwc7Pz60KFDWrlypRITEyVJ2dnZql%2B/vh599FFt2bJF7dq104QJE9S5c2e350SYAgDA4i5FmEpJSVFycrLLWEJCgjPEnEtRUZFyc3MrPVZQUCBJ8vLyco6d/bykpOS8901MTFSLFi0UHx8vSdq5c6eOHTumBx54QE888YQ%2B/PBDDR8%2BXKtWrVLr1q3PO1eJMAUAAC6B%2BPh4xcXFuYwFBAS4dW1GRoaGDRtW6bHx48dLOhOczm7NnQ1Rvr6%2BVd7z1KlTevzxx7Vr1y69//77znNfffVVFRUVyc/PT5I0adIkbdy4UR9//LEee%2Bwxt%2BZLmAIAwOIuRTMVGBh40Vt6MTEx2r59e6XHcnNzNWPGDNntduf23dmtv6rC2smTJ/Xwww/rl19%2B0YIFC1x%2Ba8/T09MZpCTJZrMpJCSkymasMrzPFAAAqDNatmypoKAgpaWlOcfS0tIUFBRUaXgrLy9XQkKC9u7dq/fee0/XXXedy/GhQ4e6bEeWl5dr%2B/btCgkJcXtONFMAAFhcXXtrhMGDB2vmzJlq1aqVJOn111/XyJEjnccPHz4sb29vNWzYUEuWLNH69ev11ltvqXHjxs4Wq379%2BvL391dcXJzmzJmjjh07ql27dlq4cKFOnDih/v37uz0fwhQAABZX18LUqFGjdOjQISUkJKhevXoaOHCgRowY4Tw%2BcOBA9e/fX4mJiVq9erXKy8v16KOPutyjW7dueu%2B99zRixAgVFxfrtddeU35%2BviIiIvTuu%2B%2B6bP2dj83hcDiq65urE2y2mp4BcGWIjJQ2bpS6dpXS02t6NkDdV4M/jlevrv573n139d%2BztqKZAgDA4upaM1Xb8AA6AACAAZopAAAsjmbKDGEKAACLI0yZYZsPAADAAM0UAAAWRzNlhmYKAADAAM0UAAAWRzNlhjAFAIDFEabMsM0HAABggGYKAACLo5kyQzMFAABggGYKAACLo5kyQ5gCAMDiCFNm2OYDAAAwQDMFAIDF0UyZoZkCAAAwQDMFAIDF0UyZIUwBAGBxhCkzbPMBAAAYoJkCAMDiaKbM0EwBAAAYoJkCAMDiaKbMEKYAALA4wpQZtvkAAAAM0EwBAGBxNFNmaKYAAAAM0EwBAGBxNFNmCFMAAFgcYcoM23wAAAAGaKYAALA4mikzNFMAAAAGaKYAALA4mikzhCkAACyOMGWGbT4AAAADNFMAAFgczZQZwhQAABZHmDLDNh8AAIABmikAACyOZsoMzRQAAIABwhQAABZXXl79H5eSw%2BHQzJkz1b17d3Xr1k3Tp09X%2BTle9LXXXlOHDh1cPhYtWuQ8vmLFCvXq1UsREREaM2aMDh8%2BfEHzYZsPAACLq2vbfO%2B%2B%2B65WrFih5ORklZWVafz48WrevLlGjRpV6fnZ2dl65pln1L9/f%2BeYn5%2BfJGnz5s2aOHGiJk%2BerLCwME2ZMkVJSUl6%2B%2B233Z4PzRQAAKhTFi5cqCeeeELR0dHq3r27xo0bp8WLF1d5fnZ2tq6//noFBAQ4P3x9fSVJixYtUp8%2BfdSvXz%2BFhYVp%2BvTp%2Buqrr7Rnzx6350OYAgDA4urSNl9ubq4OHDigG2%2B80TkWFRWlffv2KS8vr8L5J0%2BeVG5urtq2bVvp/TIyMhQdHe38unXr1goKClJGRobbcyJMAQCAOsNut0uSAgMDnWMtWrSQJB08eLDC%2BdnZ2bLZbPrb3/6m2267Tffff78%2B%2Bugj5/G8vDyXe0lS8%2BbNK71XVXhmCgAAi7sUTVJeXp4z%2BJwVEBBQIbhUpqioSLm5uZUeKygokCR5eXk5x85%2BXlJSUuH8nJwc2Ww2hYSE6MEHH9QPP/ygF198UX5%2BfrrzzjtVVFTkcq%2Bz96vsXlUhTAEAYHGXIkylpKQoOTnZZSwhIUGJiYnnvTYjI0PDhg2r9Nj48eMlnQlO3t7ezs8lOZ%2BD%2BrV%2B/frp9ttvl7%2B/vyQpLCxMu3bt0j//%2BU/deeed8vb2rhCcSkpKKr1XVQhTAACg2sXHxysuLs5lLCAgwK1rY2JitH379kqP5ebmasaMGbLb7QoODpb0f1t/ld3fZrM5g9RZISEhWrdunSSpZcuWys/Pdzmen5/v9lwlwhQAAJZ3KZqpwMBAt7b0LlTLli0VFBSktLQ0Z5hKS0tTUFBQpa83a9Yspaen6x//%2BIdzLDMzUyEhIZKkiIgIpaWlacCAAZKkAwcO6MCBA4qIiHB7ToQpAABQpwwePFgzZ85Uq1atJEmvv/66Ro4c6Tx%2B%2BPBheXt7q2HDhrr99ts1d%2B5cvfPOO7rzzjv1zTffaPny5Vq4cKHzXkOHDlWXLl3UqVMnTZkyRT179tRVV13l9nwIUwAAWFxde9POUaNG6dChQ0pISFC9evU0cOBAjRgxwnl84MCB6t%2B/vxITE9W5c2fNmjVLb775pmbNmqU2bdro9ddfV2RkpCQpMjJSr7zyit58800dO3ZMt9xyi1599dULmo/N4XA4qvMbrPVstpqeAXBliIyUNm6UunaV0tNrejZA3VeDP46Tkqr/nlOnVv89ayveZwoAAMAA23wAAFhcXdvmq21opgAAAAzQTAEAYHE0U2YIUwAAWBxhygzbfAAAAAZopgAAsDiaKTM0UwAAAAZopgAAsDiaKTOEKQAALI4wZYZtPgAAAAM0UwAAWBzNlBmaKQAAAAM0UwAAWBzNlBnCFAAAFkeYMsM2HwAAgAGaKQAALI5mygzNFAAAgAGaKQAALI5mygxhCgAAiyNMmWGbDwAAwADNFAAAFkczZYZmCgAAwADNFAAAFkczZYYwBQCAxRGmzLDNBwAAYIBmCgAAi6OZMkMzBQAAYIBmCgAAi6OZMkOYAgDA4ghTZtjmAwAAMEAzBQCAxdFMmSFMAQBgcYQpM2zzAQAAGKCZAgDA4mimzNBMAQAAGKCZAgDA4mimzBCmAACwOMKUGbb5AAAADNBMAQBgcTRTZmimAAAADNBMAQBgcXWtmXI4HHr99de1ZMkSlZeXa%2BDAgRo3bpw8PCp2RM8995w%2B%2BuijCuMxMTFauHChJCk6OlonTpxwOb5x40Y1bNjQrfkQpgAAsLi6FqbeffddrVixQsnJySorK9P48ePVvHlzjRo1qsK5EydO1DPPPOP8et%2B%2BfRo6dKiGDRsmScrNzdWJEye0Zs0a%2Bfj4OM9r0KCB2/MhTAEAgDpl4cKFeuKJJxQdHS1JGjdunGbNmlVpmGrUqJEaNWrk/Pq5555T79691atXL0lSdna2AgICdNVVV130fAhTAABYXF1qpnJzc3XgwAHdeOONzrGoqCjt27dPeXl5CgwMrPLa77//Xj/88INWr17tHMvKylK7du2M5sQD6AAAoM6w2%2B2S5BKaWrRoIUk6ePDgOa%2BdO3eu%2Bvfvr9atWzvHsrOzVVhYqKFDhyo2NlajR4/Wzp07L2hONFMAAFjcpWim8vLynMHnrICAgHM2R2cVFRUpNze30mMFBQWSJC8vL%2BfY2c9LSkqqvOeePXu0bt06TZw40WU8JydHx44d09NPPy0/Pz/NmzdPI0aM0MqVK%2BXn53feuUqEKQAALO9ShKmUlBQlJye7jCUkJCgxMfG812ZkZDgfEP%2Bt8ePHSzoTnLy9vZ2fS5Kvr2%2BV91y9erU6duyoa6%2B91mX8nXfeUWlpqfM392bOnKkePXroyy%2B/1H333XfeuUqEKQAAcAnEx8crLi7OZSwgIMCta2NiYrR9%2B/ZKj%2BXm5mrGjBmy2%2B0KDg6W9H9bf%2Be6/9dff6077rijwriXl5dLy%2BXt7a3g4OAqm7HKEKYAALC4S9FMBQYGurWld6FatmypoKAgpaWlOcNUWlqagoKCqnw9h8Ohn376SY899liF8TvvvFOPP/64BgwYIOnMNuLu3bsVEhLi9pwIUwAAoE4ZPHiwZs6cqVatWkmSXn/9dY0cOdJ5/PDhw/L29nZu3e3bt0%2BnTp2qsMVns9nUs2dPzZ49W23atFGzZs00a9YstWrVSj169HB7PoQpAAAsri69NYIkjRo1SocOHVJCQoLq1aungQMHasSIEc7jAwcOVP/%2B/Z3PZx06dEiS1KRJkwr3Gj9%2BvDw9PfXMM8/o5MmT6t69u%2BbOnat69eq5PR%2Bbw%2BFwmH1LdYzNVtMzAK4MkZHSxo1S165SenpNzwao%2B2rwx/FNN1X/Pb//vvrvWVvxPlMAAAAG2OYDAMDi6to2X21DMwUAAGCAZgoAAIujmTJDmAIAwOIIU2bY5gMAADBAMwUAgMXRTJmhmQIAADBAMwUAgMXRTJkhTAEAYHGEKTNs8wEAABigmQIAwOJopszQTAEAABigmQIAwOJopswQpgAAsDjClBm2%2BQAAAAzQTAEAYHE0U2ZopgAAAAzQTAEAYHE0U2YIUwAAWBxhygzbfAAAAAZopgAAsDiaKTOEKQAALI4wZYZtPgAAAAM0UwAAWBzNlBmaKQAAAAM0UwAAWBzNlBnCFAAAFkeYMsM2HwAAgAGaKQAALI5mygzNFAAAgAGaKQAALI5mygxhCgAAiyNMmWGbDwAAwADNFAAAFkczZYZmCgAAwADNFAAAFkczZYYwBQCAxRGmzLDNBwAAYIBmCgAAi6OZMkMzBQAAYIAwBQCAxZWXV//H5eBwODRy5EgtW7bsnOft2bNHI0aMUJcuXXTPPffom2%2B%2BcTn%2B3Xff6d5771VERISGDRumPXv2XNA8CFMAAFhcXQxT5eXleu211/Ttt9%2Be8zyHw6ExY8aoRYsWWrp0qfr27auEhATt379fkrR//36NGTNGAwYM0JIlS9SsWTM9/vjjcjgcbs%2BFMAUAAOqU3NxcDR8%2BXF988YUaN258znPXrVunPXv26JVXXlH79u316KOPqkuXLlq6dKkkKTU1VTfccINGjhyp6667TlOnTtW%2Bffu0YcMGt%2BdDmAIAwOLqWjO1detWtW7dWkuXLlWjRo3OeW5GRoauv/56NWjQwDkWFRWlTZs2OY9HR0c7j/n6%2Bio8PNx53B38Nh8AAKhT4uLiFBcX59a5drtdgYGBLmPNmzfXwYMH3TruDsIUAAAWdymapLy8PNntdpexgICACsGlMkVFRcrNza30WEBAgEvLdD6FhYXy8vJyGfPy8lJJSYlbx91hvTB1AQ%2BUAahaXl6eUmbPVvxnn7n1H0cAtdel%2BNE4e3aKkpOTXcYSEhKUmJh43mszMjI0bNiwSo/NmTNHvXr1cnse3t7eOnr0qMtYSUmJfHx8nMd/G5xKSkrO%2ByzWr1kvTAGoFna7XcnJyYqLiyNMAaggPj6%2BwlZcQECAW9fGxMRo%2B/bt1TKPli1bKisry2UsPz/f%2Bd%2Btli1bKj8/v8Lxjh07uv0ahCkAAFDtAgMDa8X/aEVERGju3LkqKipytlFpaWmKiopyHk9LS3OeX1hYqG3btikhIcHt1%2BC3%2BQAAwBXl8OHDOnXqlCSpW7duat26tZKSkrRjxw7NnTtXmzdv1sCBAyVJv//977Vx40bNnTtXO3bsUFJSkoKDgxUTE%2BP26xGmAADAFWXgwIGaP3%2B%2BJKlevXr661//KrvdrgEDBuiTTz7RnDlzFBQUJEkKDg7W7NmztXTpUg0cOFBHjx7VnDlzZLPZ3H49m%2BNC3uITAP5XXl6eUlJSFB8fXyuqfACoKYQpAAAAA2zzAQAAGCBMAQAAGCBMAQAAGCBMAQAAGCBMAQAAGCBMAQAAGCBMAQAAGCBMAQAAGCBMAQAAGCBMAXDL8uXLVVJSUmG8oKBACxcurIEZAUDtwJ%2BTAVClw4cPq6ioSJJ0xx13aMmSJWratKnLOT///LPGjh2rzZs318QUAaDGedb0BADUXhs2bNBTTz3l/OvpAwcOdDl%2B9v/F7r///ss%2BNwCoLWimAJzT/v37VV5erl69eik1NVXNmjVzHrPZbPL19a3QVgGAlRCmAFywY8eOqVGjRrLZbM7WCgCsigfQAbjF4XDorbfeUkxMjG666Sbt27dP48eP10svvVTpg%2BkAYBWEKQBumTNnjj755BNNmzZNXl5ekqT%2B/fvr22%2B/1fTp02t4dgBQcwhTANzy0Ucf6ZVXXtHtt9/u3Nq75ZZb9Je//EWffvppDc8OAGoOYQqAWw4dOqTAwMAK440bN1ZBQUENzAgAagfCFAC3dO/eXe%2B8847L2MmTJ/U///M/iomJqaFZAUDN47f5ALjl4MGDSkhI0IEDB3TkyBG1b99e%2B/fvV1BQkN566y0FBwfX9BQBoEYQpgBckO%2B//145OTkqKytTu3btFBsbKw8PSm4A1kWYAuCW/fv3Vzpus9lUv359NW3aVPXq1bvMswKAmkeYAuCW8PBwlZeXV3nc09NTvXr10quvvio/P7/LODMAqFl08wDcMnnyZF1zzTWaN2%2BefvjhB/3www%2BaP3%2B%2Brr32Wo0dO1aLFy9Wfn6%2Bpk2bVtNTBYDLimYKgFt69OihN954Q127dnUZ37Rpk5588kl99dVX2rZtm0aOHKl169bV0CwB4PKjmQLgllOnTsnT07PCuIeHh06cOCFJ8vPzU2lp6eWeGgDUKMIUALfcfffdev7557VhwwYVFBTo1KlT2rBhg1544QX16tVLhYWFmjt3rjp37lzTUwWAy4ptPgBuKS4u1quvvqqPP/5YZWVlkqT69eurf//%2BevbZZ/Xdd99pzpw5mjlzptq3b1/DswWAy4cwBcAtP/74ozp16qTTp08rJydHnp6euvrqq9WgQYOanhoA1CjCFAC3xMTEaMGCBQoLC6vpqQBArcIzUwDcct1112nz5s01PQ0AqHVopgC4ZcyYMfriiy/UvHlzBQcHy8vLy%2BX4woULa2hmAFCzKv6eMwBUomPHjurYsWNNTwMAah2aKQAAAAM0UwDcUlhYqJSUFGVlZen06dPO8ZKSEm3btk2ffvppDc4OAGoOD6ADcMsLL7ygt99%2BW4WFhfrkk09UWlqqrKwsrVy5Ur/73e9qenoAUGNopgC45b///a9mzZqlm2%2B%2BWTt27NCIESN0ww03aNq0adqxY0dNTw8AagzNFAC3FBcXq23btpLOvE3Cli1bJEnx8fH68ccfa3BmAFCzCFMA3NK%2BfXt99913ks6EqbS0NEnSiRMnVFRUVJNTA4AaxTYfALckJibqiSeeUHl5ufr27avf/e53euyxx7R9%2B3bddtttNT09AKgxNFMA3PLvf/9bS5YsUUxMjFq3bq33339f7dq1U3x8vPMPHwOAFdFMAahSenq6du/eLUlavny5wsPD5efnp/T0dElShw4dlJ2drW%2B//bYmpwkANYowBaBKvr6%2Bmj17thwOhxwOh/7%2B97/Lw%2BP/Cm2bzaYGDRpo3LhxNThLAKhZvAM6ALcMHTpUycnJatKkSU1PBQBqFcIUAACAAR5ABwAAMECYAgAAMECYAgAAMECYAgAAMECYAgAAMECYAgAAMECYAgAAMECYAgAAMPD/AcqjBlUHKkATAAAAAElFTkSuQmCC\" class=\"center-img\">\n",
       "    <img src=\"data:image/png;base64,iVBORw0KGgoAAAANSUhEUgAAAlMAAAIICAYAAABKCGvcAAAABHNCSVQICAgIfAhkiAAAAAlwSFlzAAAPYQAAD2EBqD%2BnaQAAADl0RVh0U29mdHdhcmUAbWF0cGxvdGxpYiB2ZXJzaW9uIDIuMi4zLCBodHRwOi8vbWF0cGxvdGxpYi5vcmcvIxREBQAAIABJREFUeJzs3XlYlWXi//HPAWRRNBVBRTKXUpQMERIrGpVsnRY1yqFySduFdi20KVtMx2W6VBxTy0ZaZgi1mlH7OllOMy1qsZkZJqDlgmzusomc3x/%2BOOMJ0GM3CPS8X9fFFdzPcu7zzDXx6XM/PMdmt9vtAgAAwK/i1tgTAAAAaM4IUwAAAAYIUwAAAAYIUwAAAAYIUwAAAAYIUwAAAAYIUwAAAAYIUwAAAAYIUwAAAAY8GnsCgBVkZWVpxYoV%2Bvrrr5Wfn6/y8nK1b99el1xyiYYMGaKYmBh5e3s39jQBAL%2BCjY%2BTARrW/PnztWjRIlVVVcnX11ddu3ZVixYtVFhYqH379kmSOnfurIULFyokJKSRZwsAOFeEKaABrVy5UlOmTFHLli01Y8YMXXvttXJ3d3dsz8nJ0ZQpU5SRkaF27dpp7dq1at%2B%2BfSPOGABwrrhnCmhAr7/%2BuiRp8uTJuuGGG5yClCT17NlTixYtkp%2Bfnw4ePKikpKTGmCYAwABhCmgghw8f1s8//yxJCg0NrXO/9u3ba9iwYZKkLVu2nJe5AQDqDzegAw3Ew%2BN///fasGGD%2BvbtW%2Be%2B8fHxGjNmjPz8/Bxjzz77rD744AMlJCTo6quv1p///Gd9%2B%2B23qqio0EUXXaQRI0boD3/4g7y8vGo95zfffKO3335baWlpOnTokNq0aaP%2B/ftr9OjRuuKKK2o95siRI/r73/%2Buzz//XNnZ2Tp27Jh8fHzUtWtXDR06VGPGjNEFF1zgdEzv3r0lSV9%2B%2BaVmzpypTz/9VG5ubgoJCdGyZcv03HPP6YMPPtArr7yiiIgIJSYmauPGjTp69KiCgoJ0xx13aNy4cbLZbPrXv/6l5cuX64cfflBVVZWCg4P18MMPa/DgwTXmWlZWppUrV2r9%2BvXavn27jhw5Ik9PTwUGBioqKkr33nuvOnbs6HRMdHS09u7dq7Vr16q4uFhvvPGGMjMzVVJSoqCgIN14442aMGGCWrVqVef/VgDwS9wzBTSg2NhYpaWlyWazafjw4br99ts1YMCAGst9takOUyNHjtS6detUUlKiSy65RJWVlcrNzZUkhYeHa/HixWrdurXTsXPmzNHSpUslSRdccIGCgoJUUFCgwsJCSdL999%2Bvp59%2B2umYXbt2ady4ccrLy5OHh4e6du0qHx8f7d27V4cOHZIkde/eXStXrnQKG9VhasCAAUpPT1evXr104MABRUZGau7cuU7v4%2BOPP1ZlZaV69uyp4uJix3weeOAB2Ww2LV68WG3atNGFF16onTt3qqSkRDabTUuWLNHvfvc7x2seOHBAY8eO1Y8//iibzaauXbuqdevWys/Pd5zTz89Pq1atUqdOnRzHVYepe%2B%2B9V3/961/l6empbt266fDhw9q/f78kKSwsTO%2B9957c3CjuAbjIDqDBfP/99/b%2B/fvbe/Xq5fgaMGCA/f7777cvXrzYnpGRYT958mStxz7zzDOOY4YOHWrftm2bY1taWpr9yiuvtPfq1cv%2Bxz/%2B0em4v/3tb/ZevXrZIyIi7B999JFjvKqqyr5mzRrHfN5//32n4%2B655x57r1697Hfeeac9Pz/f6bgPPvjAHhwcbO/Vq5f9nXfecTqueo6XXnqpffPmzXa73W4/efKk/eDBgzXeR2xsrL2goMCxz7PPPmvv1auXPTg42N67d2/7m2%2B%2B6bgeBw4csA8fPtzeq1cv%2Bz333FPrtbn22mvtO3fudNr2n//8xx4aGmrv1auXfebMmU7bhg4d6pjLs88%2Baz9y5IjjPb7zzjuObZ988kmt/5sAQG34Ty%2BgAfXt21cpKSkKDw93jB07dkyff/655s6dqzvvvFNRUVF67bXXVFpaWus53Nzc9Je//EV9%2BvRxjIWFhelPf/qTJCklJUX5%2BfmSpIqKCi1YsECS9Oqrr%2BrWW291HGOz2XTTTTdp0qRJkqQFCxaosrJSklRUVKQdO3ZIkl5%2B%2BWUFBAQ4HTd8%2BHANHDhQkrR9%2B/Za53njjTfq8ssvd8y5bdu2Tts9PDz05z//Wf7%2B/o59HnjgAUlSVVWVbrvtNo0fP97RCLVr105jxoyRJG3bts1xnhMnTuibb76RzWZTQkKCunXr5vQ6V199tW666SZJ0o8//ljrXIODg/Xqq686Gj2bzaa7775bvXr1kiSlpqbWehwA1IYwBTSwiy%2B%2BWO%2B9954%2B/PBDxcXFKSwsTC1atHBsLy4u1uuvv65bb73VsdR0ukGDBik4OLjGeFRUlIKCglRVVaUNGzZIktLT01VUVKRWrVrpmmuuqXU%2Bt956q9zc3JSfn%2B8IKR06dNDGjRuVmZnpCBSnO3nypHx9fSWdulepNqcHxtr07t3baclNkrp06eL4vrb7oqpD3bFjxxxjLVq00KeffqrMzEwNGTKkxjF2u10tW7Y841yHDBkim81WY7xnz56SpKNHj57xvQDA6bgBHThP%2BvTpoz59%2Big%2BPl6lpaVKS0vTF198oY8%2B%2BkjFxcX6%2Beef9dhjjyk5OdnpuMsuu6zOc/bu3Vt79uzRrl27JMnRLp04cUJ33313nce5u7urqqpKubm5Tuf39vbW3r179d133%2Bnnn3/W7t27lZOTox9%2B%2BEElJSWSTrVItalunOrSuXPnGmOenp6O79u1a1dj%2B%2Bk38f%2BSl5eXioqKlJmZqV27dmnPnj3Kzc3VDz/8oMOHD59xrqc3b6erfgr9yZMn634jAPALhCmgEfj4%2BOiqq67SVVddpccee0xTpkzRmjVrlJGRoe%2B//97pSei//Ou501U3MEeOHJH0v0aloqJCaWlpZ51H9XGSlJubqxdeeEGbN2922sfX11cREREqKChQVlZWnec628fh%2BPj4nHH7udzwXVhYqGnTpumzzz5zCkw%2BPj7q16%2BfTp48ecalutNDXG3s/F0OgHNAmAIayPPPP6%2BNGzdqxIgRevjhh%2Bvcz9vbWy%2B99JL%2B9a9/6cSJE9q5c6dTmKpuhGpTvfxV/UiF6sASEhKiVatWuTzX4uJi3XPPPSouLlZgYKDuvPNO9e3bVz169FBQUJBsNpueeuqpM4ap86W8vFxjx45VTk6O2rZtq9jYWF166aXq2bOnunbtKnd3d7322mvc9wTgvCFMAQ2kvLxcP/30k9avX3/GMCWdan9atWqlQ4cO1fg4meqlu9pUh5uLL75Y0qlHF0inHnNQWVlZ6zKZ3W7Xpk2b1KlTJwUGBsrT01MrV65UcXGx2rZtq5UrV9b6kTbVN7k3tvXr1ysnJ0ceHh5KTk6ucQO6pFrvPQOAhsIN6EADqf5Luq1bt561Jfriiy906NAhtW3btsbT0j///HPHs5NOt2HDBuXl5cnT01PR0dGSpMsvv1ytW7fW8ePH63zNf/7znxo7dqxuvPFGR%2BjYs2ePJCkwMLDWIJWdna2MjAxJjX8/UfVcW7VqVWuQKioq0r///W9JjT9XANZAmAIayFVXXaXrr79ekvTcc89p%2BvTpjiBQrby8XCtXrtTjjz8uSXr88cdrPH27tLRUjzzyiPLy8hxjmzZtUkJCgqRTD7ys/hP/li1bOh43MH36dK1cudLpnqL169frhRdekHTqUQZdu3aVJPXo0UPSqaZr3bp1jv3tdrv%2B85//6L777tOJEycc82lM1XM9fPiwli9f7nR/U0ZGhu69917HQ0Ybe64ArIFlPqABzZkzRy1bttSHH36opKQkJSUlKTAwUH5%2BfiovL9euXbtUUVGhFi1a6KmnnlJsbGyNc3Tr1k0//PCDhg0bpl69eqmkpMTx13s333yzHnzwQaf977//fu3evVvvv/%2B%2BpkyZotmzZysoKEj5%2BfkqKCiQdOoxBtOnT3ccExMTo/fee08//fSTHn30UXXp0kXt2rVTXl6eiouL1aJFCw0cOFCbN29u9OW%2B6OhohYWFKT09Xa%2B%2B%2BqqWLl2qjh07qrCwUPn5%2BbLZbLryyiv11VdfqaCgQHa7vdbHIABAfSFMAQ3I09NTM2fO1N133621a9dq06ZNys/PV1ZWlnx8fNS9e3dFRUUpJibG0bj8Ur9%2B/TRnzhzNnz9fqamp8vDw0MCBAxUbG%2Bt4OOXpbDabXn75ZV1//fX6%2B9//royMDP3www/y8vJS//79dfPNN2vUqFFOf9Hm6%2BurFStWaOnSpdqwYYP27NmjoqIiderUSUOGDNHYsWPVsmVLDRs2TFlZWdq3b58CAwMb7Lqdibu7u5YvX66kpCStWbNGu3fv1o8//ih/f3/ddNNNuueee9S3b19FRkbq0KFDSktLO%2BszsADABJ/NBzRR1Z9pd8stt2jOnDmNPR0AQB24ZwoAAMAAYQoAAMAAYQoAADRZFRUVuvnmm7Vp06Y699m2bZvuuOMOhYaG6vbbb9fWrVudtq9evVrDhg1TaGioJk6cqAMHDtTrHAlTAACgSSovL9eTTz55xocXl5SU6IEHHlBERIRWrVqlsLAwPfjgg45Pj9iyZYumTp2quLg4JScn68iRI45Hy9QXbkAHAABNTnZ2tp566inZ7XZt375dSUlJioyMrLHfihUrtGjRIq1fv142m012u13XX3%2B9HnroIY0cOVKTJ0%2BWm5ubZs6cKUnKy8vT0KFD9cknn%2BjCCy%2Bsl7nSTAEAgCZn8%2BbNioyMVHJy8hn3y8zMVHh4uON5cjabTQMGDHB8akNmZqYiIiIc%2B3fu3FmBgYHKzMyst7nynCkAAFDvCgoKanwUlr%2B/vwICAlw6/q677nJpv8LCQsfnk1bz8/NzLA0WFBTUeE0/P796/QxP64UpnoQM1I/u3aUdO6RLLpF27mzs2QDNX2PeddMAvxuT589XYmKi01hcXJzi4%2BPr9XVKS0udHkIsnXpgckVFhSSprKzsjNvrg/XCFID60bat5O5%2B6p8A8AujRo1yfAh7NX9//3p/HS8vrxrBqKKiQt7e3mfc7uPjU29zIEwBAGB1bvV/C3VAQIDLS3omOnbsqKKiIqexoqIix2vXtb0%2Bgx03oAMAgGYrNDRU6enpqn44gd1uV1pamkJDQx3bU1NTHfvn5eUpLy/Psb0%2BEKYAALA6N7f6/2pAhYWFKisrkyTdcMMNOnLkiKZPn67s7GxNnz5dpaWluvHGGyVJsbGx%2Buijj5SSkqKsrCxNnjxZQ4YMqbfHIkiEKQAA0MxERUVp7dq1kiRfX18tXrxYqampGjlypDIzM7VkyRK1bNlSkhQWFqaXXnpJCxcuVGxsrC644ALNmDGjXudjvYd28td8QP0IC5PS0qQBA6T09MaeDdD8NeavYy%2Bv%2Bj9neXn9n7OJ4gZ0AACsroGX5X7ruHoAAAAGaKYAALA6mikjXD0AAAADNFMAAFgdzZQRwhQAAFZHmDLC1QMAADBAMwUAgNXRTBnh6gEAABigmQIAwOpopowQpgAAsDrClBGuHgAAgAGaKQAArI5myghXDwAAwADNFAAAVkczZYQwBQCA1RGmjHD1AAAADNBMAQBgdTRTRrh6AAAABmimAACwOpopI4QpAACsjjBlhKsHAABggGYKAACro5kywtUDAAAwQDMFAIDV0UwZIUwBAGB1hCkjXD0AAAADNFMAAFgdzZQRrh4AAIABmikAAKyOZsoIYQoAAKsjTBnh6gEAABigmQIAwOpopowQpgAAsDrClBGuHgAAgAGaKQAArI5myghXDwAAwADNFAAAVkczZYQwBQCA1RGmjHD1AAAADNBMAQBgdTRTRghTAACgySkvL9eLL76of/3rX/L29tb48eM1fvz4GvuNHj1amzdvrjE%2BcuRIzZgxQ4cPH9bAgQOdtrVt21abNm2qt7kSpgAAsLom2EzNmjVLW7du1fLly7Vv3z4988wzCgwM1A033OC034IFC3TixAnHz5mZmXr88cd11113SZKys7PVtm1brV692rGPWz2/X8IUAABW18TCVElJiVJSUrR06VKFhIQoJCREO3bs0LvvvlsjTLVt29bx/cmTJ/Xaa6/pvvvuU79%2B/SRJubm56t69u/z9/Rtsvk3r6gEAAMvLyspSZWWlwsLCHGPh4eHKzMxUVVVVncetWrVKhw8f1v333%2B8Yy87OVrdu3RpyujRTAABYXgM0UwUFBSosLHQa8/f3V0BAwFmPLSwsVLt27eTp6ekY69Chg8rLy3Xo0CG1b9%2B%2BxjF2u11vvPGGxowZo1atWjnGc3JyVFlZqZiYGOXn5ysiIkIJCQkuzcNVhCkAAFDvkpOTlZiY6DQWFxen%2BPj4sx5bWlrqFKQkOX6uqKio9ZhNmzZp//79uvPOO53Gc3Nz1b59eyUkJMhut%2Bu1117TQw89pJSUFLm7u5/LW6oTYQoAAKtrgGZq1KhRio6Odhpz9b4lLy%2BvGqGp%2Bmdvb%2B9aj1m3bp1%2B97vfOd1DJUlr1qyRzWZzHDd//nxFRUUpMzNTAwYMcGk%2BZ0OYAgDA6hogTAUEBPzqpbSOHTvq4MGDqqyslIfHqahSWFgob29vtWnTptZj/vvf/youLq7GuI%2BPj9PPfn5%2Batu2rfLz83/V3GrDDegAAKBJ6dOnjzw8PJSRkeEYS01NVb9%2B/Wp9rMGBAwe0e/duhYeHO40fO3ZMl19%2BuTZu3OgYy8/P18GDB9WjR496my9hCgAAq3Nzq/8vAz4%2BPho%2BfLimTZumLVu2aP369Vq2bJnGjBkj6VRLVVZW5th/x44d8vLyUlBQkNN5fH19FR4erhkzZmjLli36/vvv9cQTT%2Bjqq69W7969jeZ4OsIUAABochISEhQSEqKxY8fqxRdfVHx8vK677jpJUlRUlNauXevYt7i4WG3atJHNZqtxnj/96U/q27evHnjgAY0ePVpdunTRnDlz6nWuNrvdbq/XMzZ1tVxoAL9CWJiUliYNGCClpzf2bIDmrzF/HV9/ff2fc926%2Bj9nE8UN6AAAWF0TewJ6c8PVAwAAMEAzBQCA1dFMGeHqAQAAGKCZAgDA6mimjBCmAACwOsKUEa4eAACAAZopAACsjmbKCFcPAADAAM0UAABWRzNlhDAFAIDVEaaMcPUAAAAM0EwBAGB1NFNGuHoAAAAGaKYAALA6mikjhCkAAKyOMGWEqwcAAGCAZgoAAKujmTLC1QMAADBAMwUAgNXRTBkhTAEAYHWEKSNcPQAAAAM0UwAAWB3NlBGuHgAAgAGaKQAArI5myghhCgAAqyNMGeHqAQAAGKCZAgDA6mimjBCmAACwOsKUEa4eAACAAZopAACsjmbKCFcPAADAAM0UAABWRzNlhDAFAIDVEaaMcPUAAAAM0EwBAGB1NFNGuHoAAAAGaKYAALA6mikjhCkAAKyOMGWEqwcAAGCAZgoAAKujmTLC1QMAAE1OeXm5pkyZooiICEVFRWnZsmV17vvwww%2Brd%2B/eTl8bNmxwbP/rX/%2Bqq6%2B%2BWmFhYZoyZYpKS0vrda40UwAAWF0TbKZmzZqlrVu3avny5dq3b5%2BeeeYZBQYG6oYbbqixb05OjmbPnq0rrrjCMXbBBRdIktatW6fExETNnj1bfn5%2BSkhI0OzZs/X888/X21wJUwAAWF0TC1MlJSVKSUnR0qVLFRISopCQEO3YsUPvvvtujTBVUVGhPXv2qF%2B/fvL3969xrqSkJI0dO1ZDhw6VJL344ouaMGGCJk2aJB8fn3qZb9O6egAAwPKysrJUWVmpsLAwx1h4eLgyMzNVVVXltG9ubq5sNpsuvPDCGuc5efKkvvvuO0VERDjG%2BvfvrxMnTigrK6ve5kszBQCA1TVAM1VQUKDCwkKnMX9/fwUEBJz12MLCQrVr106enp6OsQ4dOqi8vFyHDh1S%2B/btHeO5ubny9fXV5MmTtXnzZnXq1Enx8fEaPHiwjhw5ovLycqfX9PDwUNu2bbV///56eJf//5z1diYAAID/Lzk5WYmJiU5jcXFxio%2BPP%2BuxpaWlTkFKkuPniooKp/Hc3FyVlZUpKipKDzzwgD755BM9/PDDSk5OVocOHZyOPf1cvzyPCcIUAABW1wDN1KhRoxQdHe00Vts9TbXx8vKqEXaqf/b29nYaf%2BSRRzR69GjHDefBwcH6/vvv9f777%2BuJJ55wOvb0c9XX/VISYQoAADRAmAoICHBpSa82HTt21MGDB1VZWSkPj1NRpbCwUN7e3mrTpo3Tvm5ubo4gVa1Hjx7Kzs5W27Zt5eXlpaKiIvXs2VOSVFlZqUOHDrkc7FzBDegAAKBJ6dOnjzw8PJSRkeEYS01NVb9%2B/eT2i%2BD37LPPKiEhwWksKytLPXr0kJubm/r166fU1FTHtoyMDHl4eCg4OLje5kuYAgDA6tzc6v/LgI%2BPj4YPH65p06Zpy5YtWr9%2BvZYtW6YxY8ZIOtVSlZWVSZKio6P1z3/%2BUx9%2B%2BKF%2B%2BuknJSYmKjU1Vffcc48k6a677tKbb76p9evXa8uWLZo2bZruvPNOlvkAAMBvW0JCgqZNm6axY8fK19dX8fHxuu666yRJUVFRmjFjhkaOHKnrrrtOL7zwghYtWqR9%2B/bpkksu0RtvvKGgoCBJ0u9//3vt3btXzz//vCoqKnTddddp0qRJ9TpXm91ut9frGZs6m62xZwD8NoSFSWlp0oABUnp6Y88GaP4a89fxjBn1f85fLL39ltFMAQBgdU3sCejNDVcPAADAAM0UAABWRzNlhKsHAABggGYKAACro5kyQpgCAMDqCFNGuHoAAAAGaKYAALA6mikjXD0AAAADNFMAAFgdzZQRwhQAAFZHmDLC1QMAADBAMwUAgNXRTBnh6gEAABigmQIAwOpopowQpgAAsDrClBGuHgAAgAGaKQAArI5myghhCgAAqyNMGeHqAQAAGKCZAgDA6mimjHD1AAAADNBMAQBgdTRTRghTAABYHWHKCFcPAADAAM0UAABWRzNlhKsHAABggGYKAACro5kyQpgCAMDqCFNGuHoAAAAGaKYAALA6mikjXD0AAAADNFMAAFgdzZQRwhQAAFZHmDLC1QMAADBAMwUAgNXRTBnh6gEAABigmQIAwOpopowQpgAAsDrClBGuHgAAgAGaKQAArI5myghXDwAANDnl5eWaMmWKIiIiFBUVpWXLltW577///W/ddtttCgsL0y233KJPP/3UaXtERIR69%2B7t9HX8%2BPF6myvNFAAAVtcEm6lZs2Zp69atWr58ufbt26dnnnlGgYGBuuGGG5z2y8rKUlxcnCZPnqzBgwfriy%2B%2B0GOPPaYVK1YoODhY%2Bfn5Onr0qNavXy9vb2/HcS1btqy3uRKmAACwuiYWpkpKSpSSkqKlS5cqJCREISEh2rFjh959990aYWr16tUaNGiQxowZI0m66KKL9Nlnn%2Bnjjz9WcHCwcnJy5O/vrwsvvLDB5kuYAgAATUpWVpYqKysVFhbmGAsPD9frr7%2BuqqoquZ0W/kaMGKETJ07UOMfRo0clSdnZ2erevXuDzpcwBQCA1TVAM1VQUKDCwkKnMX9/fwUEBJz12MLCQrVr106enp6OsQ4dOqi8vFyHDh1S%2B/btHeM9e/Z0OnbHjh36%2Buuv9Yc//EGSlJOTo9LSUo0ePVo7d%2B5Unz59NGXKlHoNWIQpAABQ75KTk5WYmOg0FhcXp/j4%2BLMeW1pa6hSkJDl%2BrqioqPO4AwcOKD4%2BXgMGDNA111wjScrNzdXhw4f15JNPytfXV0uXLtW4ceO0Zs0a%2Bfr6nuvbqhVhCgAAq2uAZmrUqFGKjo52GvP393fpWC8vrxqhqfrn028iP11RUZHuvfde2e12zZ8/37EU%2BOabb%2BrEiRNq1aqVJGnOnDkaPHiwNmzYoFtuueWc3lNdCFMAAFhdA4SpgIAAl5b0atOxY0cdPHhQlZWV8vA4FVUKCwvl7e2tNm3a1Ng/Pz/fcQN6UlKS0zKgp6enU8vl5eWloKAg5efn/6q51aZp3b4PAAAsr0%2BfPvLw8FBGRoZjLDU1Vf369XO6%2BVw69Zd/9913n9zc3PTOO%2B%2BoY8eOjm12u13Dhg3TqlWrnPb/6aef1KNHj3qbL80UAABW18QejeDj46Phw4dr2rRpevXVV1VQUKBly5ZpxowZkk61VK1bt5a3t7cWL16sn3/%2BWW%2B//bZjm3RqObB169YaMmSIFixYoC5duqh9%2B/aaN2%2BeOnXqpMGDB9fbfAlTAACgyUlISNC0adM0duxY%2Bfr6Kj4%2BXtddd50kKSoqSjNmzNDIkSO1bt06lZWV6Y477nA6fsSIEZo5c6YmTZokDw8PPfXUUzp27JgGDRqkJUuWyN3dvd7marPb7fZ6O1tzYLM19gyA34awMCktTRowQEpPb%2BzZAM1fY/46/vrr%2Bj/nFVfU/zmbKJopAACsrokt8zU3XD0AAAADNFMAAFgdzZQRrh4AAIABmikAAKyOZsoIYQoAAKsjTBnh6gEAABigmQIAwOpopowQpgAAsDrClBGuHgAAgAGaKQAArI5myghXDwAAwADNFAAAVkczZYQwBQCA1RGmjHD1AAAADNBMAQBgdTRTRrh6AAAABmimAACwOpopI4QpAACsjjBlhKsHAABggGYKAACro5kywtUDAAAwQDMFAIDV0UwZIUwBAGB1hCkjXD0AAAADNFMAAFgdzZQRrh4AAIABmikAAKyOZsoIYQoAAKsjTBnh6gEAABigmQIAwOpopoxw9QAAAAzQTAEAYHU0U0YIUwAAWB1hyghXDwAAwADNFAAAVkczZYSrBwAAYIBmCgAAq6OZMkKYAgDA6ghTRrh6AAAABmimAACwOpopI%2Bd09X744QelpaU11FzO6OOPP1ZxcXGjvDYAADi/ysvLNWXKFEVERCgqKkrLli2rc99t27bpjjvuUGhoqG6//XZt3brVafvq1as1bNgwhYaGauLEiTpw4EC9zvWcwtTEiRO1a9euep2AK/bu3avHH39cpaWl5/21AQD4zXNzq/8vQ7NmzdLWrVu1fPlyvfDCC0pMTNT//d//1divpKREDzzwgCIiIrRq1SqFhYXpwQcfVElJiSRpy5Ytmjp1quLi4pScnKwjR44oISHBeH6naxa9nt1ub%2BzI91CqAAAer0lEQVQpAADw29XEwlRJSYlSUlI0depUhYSE6Nprr9V9992nd999t8a%2Ba9eulZeXlyZPnqyePXtq6tSpatWqlSN4vfPOO7rxxhs1fPhwBQcHa9asWfr888%2B1e/duozmezuV3O3r0aO3du1cJCQl69tln9emnn2r48OHq16%2BfIiIi9OSTT%2Br48eOSpAULFuiRRx7R3XffrYEDB2rz5s0qKyvT1KlTFR4erquvvlopKSnq27ev9uzZI0nKy8vTQw89pNDQUEVHRysxMVEnT56UJF1zzTWOf65atare3jwAAGh6srKyVFlZqbCwMMdYeHi4MjMzVVVV5bRvZmamwsPDZbPZJEk2m00DBgxQRkaGY3tERIRj/86dOyswMFCZmZn1Nl%2BXb0BfsGCBbrvtNo0fP16RkZGKiYnR888/ryuvvFK7du3S008/rffff1/33nuvJOnTTz/VtGnT1L9/f3Xv3l2vvPKK0tPT9eabb6qyslJTp051hCW73a64uDgFBwfrgw8%2BUGFhoZ5//nnZbDZNnDhRKSkpuuOOO5SSkqJevXq5/OYKCgpUWFjoNObfvbsC2rZ1%2BRwA6hAc7PxPAM1XA9yAXuvvYH9/BQQEnPXYwsJCtWvXTp6eno6xDh06qLy8XIcOHVL79u2d9r344oudjvfz89OOHTsc8/jla/r5%2BWn//v3n/J7q4nKYatu2rdzd3dW6dWt5e3vrueee05133ilJCgoK0pVXXumYuHTqTcfGxkqSjh8/rg8//FBLly5V//79JUnPPfec7rvvPknSxo0btW/fPqWkpMjNzU09evTQM888o4SEBE2cONFx0dq3by9vb2%2BX31xycrISExOdxuIee0zxjz3m8jkAnMV77zX2DAA0QbX%2BDo6LU3x8/FmPLS0tdQpSkhw/V1RUuLRv9X5lZWVn3F4fftWjEbp16yZPT08tWrRIO3bs0I4dO5Sdna3bbrvNsU%2BXLl0c3%2Bfm5urEiRPq16%2BfY%2Bz06i4nJ0eHDh1SeHi4Y6yqqkplZWU6ePDgr5miJGnUqFGKjo52GvO/5RZp%2BfJffU4A/19w8KkgddddUlZWY88GaP4a6a/lJckuW72fs9bfwf7%2BLh3r5eVVI%2BxU//zLUqWufav3q2u7j4%2BPS3Nxxa8KU1lZWYqNjVV0dLQiIiI0btw4Lf9FQPHy8vrfi3jUfJnTbyqvrKxUjx499Je//KXGfq1bt3bci3WuAgICataJO3f%2BqnMBqENWlpSe3tizAGDgF7ch1Ytafwe7qGPHjjp48KAqKysdGaKwsFDe3t5q06ZNjX2LioqcxoqKihyvXdd2V4OdK37VIulHH32kyy%2B/XHPnztVdd92lyy67TD/99FOdf3XXtWtXtWjRwum5D6d/3717d%2B3bt0/t27fXRRddpIsuukh79uzR/PnzZbPZHDeVAQCA374%2BffrIw8PDcRO5JKWmpqpfv35y%2B8X9XaGhoUpPT3dkELvdrrS0NIWGhjq2p6amOvbPy8tTXl6eY3t9OKcw1bJlS%2BXm5qpNmzbavn27tmzZop07d2rmzJn67rvv6lx/bNWqlUaOHKnp06crMzNTGRkZmj59uqRTd91HRUWpS5cumjRpkrZv365vv/1Wf/zjH%2BXj4yN3d3dHFZeVlfWrWyoAAFC7qqr6/zLh4%2BOj4cOHa9q0adqyZYvWr1%2BvZcuWacyYMZJOtVRlZWWSpBtuuEFHjhzR9OnTlZ2drenTp6u0tFQ33nijJCk2NlYfffSRUlJSlJWVpcmTJ2vIkCG68MILzSZ5mnMKU7GxsXr33Xe1detW9e/fX%2BPGjdNdd92lffv2aeLEidq2bVudxz7zzDPq3bu3xo0bp/j4eN18882SpBYtWsjd3V2LFi1SVVWV7rzzTsXHx2vw4MF67rnnJJ268fzWW2/V448/rpSUFIO3CwAAmoOEhASFhIRo7NixevHFFxUfH6/rrrtOkhQVFaW1a9dKknx9fbV48WKlpqZq5MiRyszM1JIlS9SyZUtJp%2B7Rfumll7Rw4ULFxsbqggsu0IwZM%2Bp1rjb7eXoi5vr163XFFVeoVatWkk49kfSuu%2B5Senq6WrRocT6mcApLhkD9CAs7dcPsgAHcMwXUh0Z8QHV5ef2f87Rbp3/zztsHHScmJmrDhg164IEHdPz4cc2ePVvR0dHnN0gBAIAaGuIGdCs5bx8nM2fOHO3Zs0fDhw/Xvffeq6CgIMd9UwAAAM3VeWumLr744hqPTwAAAI2PZsrMeQtTAACgaSJMmTlvy3wAAAC/RTRTAABYHM2UGZopAAAAAzRTAABYHM2UGcIUAAAWR5gywzIfAACAAZopAAAsjmbKDM0UAACAAZopAAAsjmbKDGEKAACLI0yZYZkPAADAAM0UAAAWRzNlhmYKAADAAM0UAAAWRzNlhjAFAIDFEabMsMwHAABggGYKAACLo5kyQzMFAABggGYKAACLo5kyQ5gCAMDiCFNmWOYDAAAwQDMFAIDF0UyZoZkCAAAwQDMFAIDF0UyZIUwBAGBxhCkzLPMBAAAYoJkCAMDiaKbM0EwBAAAYoJkCAMDiaKbMEKYAALA4wpQZlvkAAAAM0EwBAGBxNFNmaKYAAAAM0EwBAGBxNFNmCFMAAFgcYcoMy3wAAAAGaKYAALA4mikzNFMAAKBZsdvtmjNnjgYNGqSBAwdq1qxZqjpDIszIyNAf/vAHhYWF6frrr1dKSorT9ltvvVW9e/d2%2Bvrxxx9dng/NFAAAFtfcmqm33npLq1evVmJioiorKzVp0iT5%2BflpwoQJNfYtLCzU/fffr9jYWM2cOVPff/%2B9EhIS5O/vryFDhujkyZPatWuX3nnnHXXr1s1xXLt27VyeD2EKAACLa25hKikpSY8%2B%2BqgiIiIkSU8//bTmzZtXa5hav369OnTooCeffFKS1K1bN23atEn//Oc/NWTIEO3Zs0cnTpzQZZddJi8vr181H8IUAABoNvLz85WXl6fLL7/cMRYeHq69e/eqoKBAAQEBTvtfffXV6tOnT43zHDt2TJKUnZ2tzp07/%2BogJRGmAACwvIZopgoKClRYWOg05u/vXyPsnKvqc55%2Bng4dOkiS9u/fX%2BP8QUFBCgoKcvxcXFysNWvWKD4%2BXpKUk5OjFi1a6MEHH9TWrVvVvXt3TZ48WZdddpnLcyJMAQBgcQ0RppKTk5WYmOg0FhcX5wgxZ1JWVqb8/Pxat5WUlEiSPD09HWPV31dUVJz1vPHx8erQoYNGjRolSdq5c6cOHz6sO%2B64Q48%2B%2Bqjef/99jR07VmvXrlXnzp3POleJMAUAABrAqFGjFB0d7TTm7%2B/v0rGZmZkaM2ZMrdsmTZok6VRwql6aqw5RPj4%2BdZ7z%2BPHjeuSRR7Rr1y699957jn1ffvlllZWVydfXV5I0bdo0paWl6aOPPtJDDz3k0nwJUwAAWFxDNFMBAQG/ekkvMjJS27dvr3Vbfn6%2BZs%2BercLCQsfyXfXSX11h7dixY7rvvvv0888/a/ny5U5/tefh4eEIUpJks9nUo0ePOpux2vCcKQAA0Gx07NhRgYGBSk1NdYylpqYqMDCw1vBWVVWluLg47dmzR2%2B//bYuueQSp%2B2jR492Wo6sqqrS9u3b1aNHD5fnRDMFAIDFNbdHI8TGxmrOnDnq1KmTJGnu3LkaP368Y/uBAwfk5eWlVq1aacWKFdq0aZMWLVqkNm3aOFqsFi1aqG3btoqOjtbChQvVp08fde/eXUlJSTp69KhGjBjh8nwIUwAAWFxzC1MTJkxQcXGx4uLi5O7urpiYGI0bN86xPSYmRiNGjFB8fLzWrVunqqoqPfjgg07nGDhwoN5%2B%2B22NGzdO5eXleuWVV1RUVKTQ0FC99dZbTkt/Z2Oz2%2B32%2BnpzzYLN1tgzAH4bwsKktDRpwAApPb2xZwM0f43463jduvo/5/XX1/85myqaKQAALK65NVNNDTegAwAAGKCZAgDA4mimzBCmAACwOMKUGZb5AAAADNBMAQBgcTRTZmimAAAADNBMAQBgcTRTZghTAABYHGHKDMt8AAAABmimAACwOJopMzRTAAAABmimAACwOJopM4QpAAAsjjBlhmU%2BAAAAAzRTAABYHM2UGZopAAAAAzRTAABYHM2UGcIUAAAWR5gywzIfAACAAZopAAAsjmbKDM0UAACAAZopAAAsjmbKDGEKAACLI0yZYZkPAADAAM0UAAAWRzNlhmYKAADAAM0UAAAWRzNlhjAFAIDFEabMsMwHAABggGYKAACLo5kyQzMFAABggGYKAACLo5kyQ5gCAMDiCFNmWOYDAAAwQDMFAIDF0UyZIUwBAGBxhCkzLPMBAAAYoJkCAMDiaKbM0EwBAAAYIEwBAGBxVVX1/9WQ7Ha75syZo0GDBmngwIGaNWuWqs7woq%2B88op69%2B7t9PXOO%2B84tq9evVrDhg1TaGioJk6cqAMHDpzTfFjmAwDA4prbMt9bb72l1atXKzExUZWVlZo0aZL8/Pw0YcKEWvfPycnRU089pREjRjjGfH19JUlbtmzR1KlT9eKLLyo4OFjTp09XQkKCFi9e7PJ8aKYAAECzkpSUpEcffVQREREaNGiQnn76ab377rt17p%2BTk6O%2BffvK39/f8eXj4yNJeuedd3TjjTdq%2BPDhCg4O1qxZs/T5559r9%2B7dLs%2BHMAUAgMU1p2W%2B/Px85eXl6fLLL3eMhYeHa%2B/evSooKKix/7Fjx5Sfn69u3brVer7MzExFREQ4fu7cubMCAwOVmZnp8pwIUwAAoNkoLCyUJAUEBDjGOnToIEnav39/jf1zcnJks9n0%2Buuv63e/%2B51uvfVWffDBB47tBQUFTueSJD8/v1rPVRfumQIAwOIaokkqKChwBJ9q/v7%2BNYJLbcrKypSfn1/rtpKSEkmSp6enY6z6%2B4qKihr75%2BbmymazqUePHrrnnnv0zTff6I9//KN8fX117bXXqqyszOlc1eer7Vx1IUwBAGBxDRGmkpOTlZiY6DQWFxen%2BPj4sx6bmZmpMWPG1Lpt0qRJkk4FJy8vL8f3khz3QZ1u%2BPDhGjp0qNq2bStJCg4O1q5du/S3v/1N1157rby8vGoEp4qKilrPVRfCFAAAqHejRo1SdHS005i/v79Lx0ZGRmr79u21bsvPz9fs2bNVWFiooKAgSf9b%2Bqvt/DabzRGkqvXo0UMbN26UJHXs2FFFRUVO24uKilyeq0SYAgDA8hqimQoICHBpSe9cdezYUYGBgUpNTXWEqdTUVAUGBtb6evPmzVN6err%2B%2Bte/OsaysrLUo0cPSVJoaKhSU1M1cuRISVJeXp7y8vIUGhrq8pwIUwAAoFmJjY3VnDlz1KlTJ0nS3LlzNX78eMf2AwcOyMvLS61atdLQoUO1ZMkSvfnmm7r22mv1xRdf6MMPP1RSUpLjXKNHj1b//v3Vr18/TZ8%2BXUOGDNGFF17o8nwIUwAAWFxze2jnhAkTVFxcrLi4OLm7uysmJkbjxo1zbI%2BJidGIESMUHx%2Bvyy67TPPmzdP8%2BfM1b948denSRXPnzlVYWJgkKSwsTC%2B99JLmz5%2Bvw4cP66qrrtLLL798TvOx2e12e32%2BwSbPZmvsGQC/DWFhUlqaNGCAlJ7e2LMBmr9G/HWckFD/55wxo/7P2VTxnCkAAAADLPMBAGBxzW2Zr6mhmQIAADBAMwUAgMXRTJkhTAEAYHGEKTMs8wEAABigmQIAwOJopszQTAEAABigmQIAwOJopswQpgAAsDjClBmW%2BQAAAAzQTAEAYHE0U2ZopgAAAAzQTAEAYHE0U2YIUwAAWBxhygzLfAAAAAZopgAAsDiaKTM0UwAAAAZopgAAsDiaKTOEKQAALI4wZYZlPgAAAAM0UwAAWBzNlBmaKQAAAAM0UwAAWBzNlBnCFAAAFkeYMsMyHwAAgAGaKQAALI5mygzNFAAAgAGaKQAALI5mygxhCgAAiyNMmWGZDwAAwADNFAAAFkczZYYwBQCAxRGmzLDMBwAAYIBmCgAAi6OZMkMzBQAAYIBmCgAAi6OZMkOYAgDA4ghTZljmAwAAMEAzBQCAxdFMmaGZAgAAMEAzBQCAxTW3Zsput2vu3LlasWKFqqqqFBMTo6efflpubjU7omeffVYffPBBjfHIyEglJSVJkiIiInT06FGn7WlpaWrVqpVL8yFMAQBgcc0tTL311ltavXq1EhMTVVlZqUmTJsnPz08TJkyose/UqVP11FNPOX7eu3evRo8erTFjxkiS8vPzdfToUa1fv17e3t6O/Vq2bOnyfAhTAACgWUlKStKjjz6qiIgISdLTTz%2BtefPm1RqmWrdurdatWzt%2BfvbZZ3XDDTdo2LBhkqScnBz5%2B/vrwgsv/NXzIUwBAGBxzamZys/PV15eni6//HLHWHh4uPbu3auCggIFBATUeezXX3%2Btb775RuvWrXOMZWdnq3v37kZz4gZ0AADQbBQWFkqSU2jq0KGDJGn//v1nPHbJkiUaMWKEOnfu7BjLyclRaWmpRo8eraioKN1///3auXPnOc2JZgoAAItriGaqoKDAEXyq%2Bfv7n7E5qlZWVqb8/Pxat5WUlEiSPD09HWPV31dUVNR5zt27d2vjxo2aOnWq03hubq4OHz6sJ598Ur6%2Bvlq6dKnGjRunNWvWyNfX96xzlQhTAABYXkOEqeTkZCUmJjqNxcXFKT4%2B/qzHZmZmOm4Q/6VJkyZJOhWcvLy8HN9Lko%2BPT53nXLdunfr06aOLL77YafzNN9/UiRMnHH%2B5N2fOHA0ePFgbNmzQLbfccta5SoQpAADQAEaNGqXo6GinMX9/f5eOjYyM1Pbt22vdlp%2Bfr9mzZ6uwsFBBQUGS/rf0d6bz//e//9U111xTY9zT09Op5fLy8lJQUFCdzVhtCFMAAFhcQzRTAQEBLi3pnauOHTsqMDBQqampjjCVmpqqwMDAOl/Pbrfru%2B%2B%2B00MPPVRj/Nprr9UjjzyikSNHSjq1jPjTTz%2BpR48eLs%2BJMAUAAJqV2NhYzZkzR506dZIkzZ07V%2BPHj3dsP3DggLy8vBxLd3v37tXx48drLPHZbDYNGTJECxYsUJcuXdS%2BfXvNmzdPnTp10uDBg12eD2EKAACLa06PRpCkCRMmqLi4WHFxcXJ3d1dMTIzGjRvn2B4TE6MRI0Y47s8qLi6WJF1wwQU1zjVp0iR5eHjoqaee0rFjxzRo0CAtWbJE7u7uLs/HZrfb7WZvqZmx2Rp7BsBvQ1iYlJYmDRggpac39myA5q8Rfx1fcUX9n/Prr%2Bv/nE0Vz5kCAAAwwDIfAAAW19yW%2BZoamikAAAADNFMAAFgczZQZwhQAABZHmDLDMh8AAIABmikAACyOZsoMzRQAAIABmikAACyOZsoMYQoAAIsjTJlhmQ8AAMAAzRQAABZHM2WGZgoAAMAAzRQAABZHM2WGMAUAgMURpsywzAcAAGCAZgoAAIujmTJDMwUAAGCAZgoAAIujmTJDmAIAwOIIU2ZY5gMAADBAMwUAgMXRTJkhTAEAYHGEKTMs8wEAABigmQIAwOJopszQTAEAABigmQIAwOJopswQpgAAsDjClBmW%2BQAAAAzQTAEAYHE0U2ZopgAAAAzQTAEAYHE0U2YIUwAAWBxhygzLfAAAAAZopgAAsDiaKTM0UwAAAAZopgAAsDiaKTOEKQAALI4wZYZlPgAAAAM0UwAAWBzNlBmaKQAAAAOEKQAALK6qqv6/zge73a7x48dr1apVZ9xv9%2B7dGjdunPr376%2BbbrpJX3zxhdP2r776SjfffLNCQ0M1ZswY7d69%2B5zmQZgCAMDimmOYqqqq0iuvvKIvv/zyjPvZ7XZNnDhRHTp00MqVK3XbbbcpLi5O%2B/btkyTt27dPEydO1MiRI7VixQq1b99ejzzyiOx2u8tzIUwBAIBmJT8/X2PHjtVnn32mNm3anHHfjRs3avfu3XrppZfUs2dPPfjgg%2Brfv79WrlwpSUpJSdGll16q8ePH65JLLtGMGTO0d%2B9ebd682eX5EKYAALC45tZMff/99%2BrcubNWrlyp1q1bn3HfzMxM9e3bVy1btnSMhYeHKyMjw7E9IiLCsc3Hx0chISGO7a7gr/kAAECzEh0drejoaJf2LSwsVEBAgNOYn5%2Bf9u/f79J2VxCmAACwuIZokgoKClRYWOg05u/vXyO41KasrEz5%2Bfm1bvP393dqmc6mtLRUnp6eTmOenp6qqKhwabsrrBemzuGGMgB1KygoUPKCBRr1f//n0r8cATRdDfGrccGCZCUmJjqNxcXFKT4%2B/qzHZmZmasyYMbVuW7hwoYYNG%2BbyPLy8vHTo0CGnsYqKCnl7ezu2/zI4VVRUnPVerNNZL0wBqBeFhYVKTExUdHQ0YQpADaNGjaqxFOfv7%2B/SsZGRkdq%2BfXu9zKNjx47Kzs52GisqKnL8e6tjx44qKiqqsb1Pnz4uvwZhCgAA1LuAgIAm8R9aoaGhWrJkicrKyhxtVGpqqsLDwx3bU1NTHfuXlpZq27ZtiouLc/k1%2BGs%2BAADwm3LgwAEdP35ckjRw4EB17txZCQkJ2rFjh5YsWaItW7YoJiZGknT77bcrLS1NS5Ys0Y4dO5SQkKCgoCBFRka6/HqEKQAA8JsSExOjZcuWSZLc3d31l7/8RYWFhRo5cqT%2B8Y9/aOHChQoMDJQkBQUFacGCBVq5cqViYmJ06NAhLVy4UDabzeXXs9nP5RGfAPD/FRQUKDk5WaNGjWoSVT4ANBbCFAAAgAGW%2BQAAAAwQpgAAAAwQpgAAAAwQpgAAAAwQpgAAAAwQpgAAAAwQpgAAAAwQpgAAAAwQpgAAAAwQpgC45MMPP1RFRUWN8ZKSEiUlJTXCjACgaeDjZADU6cCBAyorK5MkXXPNNVqxYoXatWvntM8PP/ygJ554Qlu2bGmMKQJAo/No7AkAaLo2b96sxx9/3PHp6TExMU7bq/9b7NZbbz3vcwOApoJmCsAZ7du3T1VVVRo2bJhSUlLUvn17xzabzSYfH58abRUAWAlhCsA5O3z4sFq3bi2bzeZorQDAqrgBHYBL7Ha7Fi1apMjISF1xxRXau3evJk2apOeff77WG9MBwCoIUwBcsnDhQv3jH//QzJkz5enpKUkaMWKEvvzyS82aNauRZwcAjYcwBcAlH3zwgV566SUNHTrUsbR31VVX6U9/%2BpM%2B/vjjRp4dADQewhQAlxQXFysgIKDGeJs2bVRSUtIIMwKApoEwBcAlgwYN0ptvvuk0duzYMf35z39WZGRkI80KABoff80HwCX79%2B9XXFyc8vLydPDgQfXs2VP79u1TYGCgFi1apKCgoMaeIgA0CsIUgHPy9ddfKzc3V5WVlerevbuioqLk5kbJDcC6CFMAXLJv375ax202m1q0aKF27drJ3d39PM8KABofYQqAS0JCQlRVVVXndg8PDw0bNkwvv/yyfH19z%2BPMAKBx0c0DcMmLL76oiy66SEuXLtU333yjb775RsuWLdPFF1%2BsJ554Qu%2B%2B%2B66Kioo0c%2BbMxp4qAJxXNFMAXDJ48GC99tprGjBggNN4RkaGHnvsMX3%2B%2Befatm2bxo8fr40bNzbSLAHg/KOZAuCS48ePy8PDo8a4m5ubjh49Kkny9fXViRMnzvfUAKBREaYAuOT666/XlClTtHnzZpWUlOj48ePavHmznnvuOQ0bNkylpaVasmSJLrvsssaeKgCcVyzzAXBJeXm5Xn75ZX300UeqrKyUJLVo0UIjRozQM888o6%2B%2B%2BkoLFy7UnDlz1LNnz0aeLQCcP4QpAC759ttv1a9fP508eVK5ubny8PBQ165d1bJly8aeGgA0KsIUAJdERkZq%2BfLlCg4ObuypAECTwj1TAFxyySWXaMuWLY09DQBocmimALhk4sSJ%2Buyzz%2BTn56egoCB5eno6bU9KSmqkmQFA46r5d84AUIs%2BffqoT58%2BjT0NAGhyaKYAAAAM0EwBcElpaamSk5OVnZ2tkydPOsYrKiq0bds2ffzxx404OwBoPNyADsAlzz33nBYvXqzS0lL94x//0IkTJ5Sdna01a9bo97//fWNPDwAaDc0UAJf85z//0bx583TllVdqx44dGjdunC699FLNnDlTO3bsaOzpAUCjoZkC4JLy8nJ169ZN0qnHJGzdulWSNGrUKH377beNODMAaFyEKQAu6dmzp7766itJp8JUamqqJOno0aMqKytrzKkBQKNimQ%2BAS%2BLj4/Xoo4%2BqqqpKt912m37/%2B9/roYce0vbt2/W73/2usacHAI2GZgqASz755BOtWLFCkZGR6ty5s9577z11795do0aNcnzwMQBYEc0UgDqlp6frp59%2BkiR9%2BOGHCgkJka%2Bvr9LT0yVJvXv3Vk5Ojr788svGnCYANCrCFIA6%2Bfj4aMGCBbLb7bLb7XrjjTfk5va/Qttms6lly5Z6%2BumnG3GWANC4eAI6AJeMHj1aiYmJuuCCCxp7KgDQpBCmAAAADHADOgAAgAHCFAAAgAHCFAAAgAHCFID/124dCwAAAAAM8rcexN6iCIBBpgAABpkCABhkCgBgkCkAgCHD8tFNxmAnkAAAAABJRU5ErkJggg%3D%3D\" class=\"center-img\">\n",
       "</div>\n",
       "    <div class=\"row headerrow highlight\">\n",
       "        <h1>Sample</h1>\n",
       "    </div>\n",
       "    <div class=\"row variablerow\">\n",
       "    <div class=\"col-md-12\" style=\"overflow:scroll; width: 100%%; overflow-y: hidden;\">\n",
       "        <table border=\"1\" class=\"dataframe sample\">\n",
       "  <thead>\n",
       "    <tr style=\"text-align: right;\">\n",
       "      <th></th>\n",
       "      <th>target</th>\n",
       "    </tr>\n",
       "  </thead>\n",
       "  <tbody>\n",
       "    <tr>\n",
       "      <th>0</th>\n",
       "      <td>0</td>\n",
       "    </tr>\n",
       "    <tr>\n",
       "      <th>1</th>\n",
       "      <td>0</td>\n",
       "    </tr>\n",
       "    <tr>\n",
       "      <th>2</th>\n",
       "      <td>0</td>\n",
       "    </tr>\n",
       "    <tr>\n",
       "      <th>3</th>\n",
       "      <td>0</td>\n",
       "    </tr>\n",
       "    <tr>\n",
       "      <th>4</th>\n",
       "      <td>0</td>\n",
       "    </tr>\n",
       "  </tbody>\n",
       "</table>\n",
       "    </div>\n",
       "</div>\n",
       "</div>"
      ],
      "text/plain": [
       "<pandas_profiling.ProfileReport at 0x120aa4da0>"
      ]
     },
     "execution_count": 6,
     "metadata": {},
     "output_type": "execute_result"
    }
   ],
   "source": [
    "pandas_profiling.ProfileReport(pd.DataFrame(df[\"target\"]))"
   ]
  },
  {
   "cell_type": "code",
   "execution_count": 4,
   "metadata": {
    "slideshow": {
     "slide_type": "slide"
    }
   },
   "outputs": [],
   "source": [
    "from imblearn.under_sampling import RandomUnderSampler"
   ]
  },
  {
   "cell_type": "code",
   "execution_count": 5,
   "metadata": {
    "slideshow": {
     "slide_type": "slide"
    }
   },
   "outputs": [],
   "source": [
    "cols = [x for x in df.columns if x not in [\"ID_code\", \"target\"]]"
   ]
  },
  {
   "cell_type": "code",
   "execution_count": 6,
   "metadata": {
    "slideshow": {
     "slide_type": "slide"
    }
   },
   "outputs": [],
   "source": [
    "rus = RandomUnderSampler()"
   ]
  },
  {
   "cell_type": "code",
   "execution_count": 7,
   "metadata": {
    "slideshow": {
     "slide_type": "slide"
    }
   },
   "outputs": [],
   "source": [
    "X, y = rus.fit_resample(df[cols], df[\"target\"])"
   ]
  },
  {
   "cell_type": "code",
   "execution_count": 8,
   "metadata": {
    "slideshow": {
     "slide_type": "slide"
    }
   },
   "outputs": [
    {
     "data": {
      "text/plain": [
       "(32014, 200)"
      ]
     },
     "execution_count": 8,
     "metadata": {},
     "output_type": "execute_result"
    }
   ],
   "source": [
    "X.shape"
   ]
  },
  {
   "cell_type": "code",
   "execution_count": 91,
   "metadata": {
    "slideshow": {
     "slide_type": "slide"
    }
   },
   "outputs": [],
   "source": [
    "import lightgbm as lgb\n",
    "import warnings\n",
    "from sklearn.metrics import roc_auc_score\n",
    "warnings.filterwarnings(\"ignore\")"
   ]
  },
  {
   "cell_type": "code",
   "execution_count": 92,
   "metadata": {
    "slideshow": {
     "slide_type": "slide"
    }
   },
   "outputs": [],
   "source": [
    "lgbc = lgb.LGBMClassifier()"
   ]
  },
  {
   "cell_type": "code",
   "execution_count": 93,
   "metadata": {
    "slideshow": {
     "slide_type": "slide"
    }
   },
   "outputs": [
    {
     "data": {
      "text/plain": [
       "LGBMClassifier(boosting_type='gbdt', class_weight=None, colsample_bytree=1.0,\n",
       "        learning_rate=0.1, max_depth=-1, min_child_samples=20,\n",
       "        min_child_weight=0.001, min_split_gain=0.0, n_estimators=100,\n",
       "        n_jobs=-1, num_leaves=31, objective=None, random_state=None,\n",
       "        reg_alpha=0.0, reg_lambda=0.0, silent=True, subsample=1.0,\n",
       "        subsample_for_bin=200000, subsample_freq=1)"
      ]
     },
     "execution_count": 93,
     "metadata": {},
     "output_type": "execute_result"
    }
   ],
   "source": [
    "lgbc.fit(X, y)"
   ]
  },
  {
   "cell_type": "code",
   "execution_count": 94,
   "metadata": {
    "slideshow": {
     "slide_type": "slide"
    }
   },
   "outputs": [],
   "source": [
    "pred = lgbc.predict_proba(df_test[cols])[:,1]"
   ]
  },
  {
   "cell_type": "code",
   "execution_count": 95,
   "metadata": {
    "slideshow": {
     "slide_type": "slide"
    }
   },
   "outputs": [
    {
     "data": {
      "text/plain": [
       "0.8578124628689625"
      ]
     },
     "execution_count": 95,
     "metadata": {},
     "output_type": "execute_result"
    }
   ],
   "source": [
    "roc_auc_score(df_test[\"target\"], pred)"
   ]
  },
  {
   "cell_type": "code",
   "execution_count": 10,
   "metadata": {
    "slideshow": {
     "slide_type": "slide"
    }
   },
   "outputs": [],
   "source": [
    "from sklearn.model_selection import GridSearchCV, RandomizedSearchCV"
   ]
  },
  {
   "cell_type": "markdown",
   "metadata": {
    "slideshow": {
     "slide_type": "slide"
    }
   },
   "source": [
    "## GridSearch\n",
    "```GridSearchCV(estimator, param_grid, scoring=None, fit_params=None, n_jobs=None, iid=’warn’, refit=True, cv=’warn’, verbose=0, pre_dispatch=‘2*n_jobs’, error_score=’raise-deprecating’, return_train_score=’warn’)```"
   ]
  },
  {
   "cell_type": "code",
   "execution_count": 97,
   "metadata": {
    "slideshow": {
     "slide_type": "slide"
    }
   },
   "outputs": [],
   "source": [
    "param = {\n",
    "    'num_leaves':[5, 10, 30, 50, 100],\n",
    "    'learning_rate':[0.1, 0.01, 0.001],\n",
    "    'n_estimators': [10, 20, 50, 100]\n",
    "    \n",
    "}"
   ]
  },
  {
   "cell_type": "code",
   "execution_count": 100,
   "metadata": {
    "slideshow": {
     "slide_type": "slide"
    }
   },
   "outputs": [],
   "source": [
    "gscv = GridSearchCV(lgb.LGBMClassifier(), param_grid=param, n_jobs=1, verbose=1)"
   ]
  },
  {
   "cell_type": "code",
   "execution_count": 101,
   "metadata": {
    "slideshow": {
     "slide_type": "slide"
    }
   },
   "outputs": [
    {
     "name": "stdout",
     "output_type": "stream",
     "text": [
      "Fitting 3 folds for each of 60 candidates, totalling 180 fits\n"
     ]
    },
    {
     "name": "stderr",
     "output_type": "stream",
     "text": [
      "[Parallel(n_jobs=1)]: Using backend SequentialBackend with 1 concurrent workers.\n",
      "[Parallel(n_jobs=1)]: Done 180 out of 180 | elapsed:  5.4min finished\n"
     ]
    },
    {
     "data": {
      "text/plain": [
       "GridSearchCV(cv='warn', error_score='raise-deprecating',\n",
       "       estimator=LGBMClassifier(boosting_type='gbdt', class_weight=None, colsample_bytree=1.0,\n",
       "        learning_rate=0.1, max_depth=-1, min_child_samples=20,\n",
       "        min_child_weight=0.001, min_split_gain=0.0, n_estimators=100,\n",
       "        n_jobs=-1, num_leaves=31, objective=None, random_state=None,\n",
       "        reg_alpha=0.0, reg_lambda=0.0, silent=True, subsample=1.0,\n",
       "        subsample_for_bin=200000, subsample_freq=1),\n",
       "       fit_params=None, iid='warn', n_jobs=1,\n",
       "       param_grid={'num_leaves': [5, 10, 30, 50, 100], 'learning_rate': [0.1, 0.01, 0.001], 'n_estimators': [10, 20, 50, 100]},\n",
       "       pre_dispatch='2*n_jobs', refit=True, return_train_score='warn',\n",
       "       scoring=None, verbose=1)"
      ]
     },
     "execution_count": 101,
     "metadata": {},
     "output_type": "execute_result"
    }
   ],
   "source": [
    "gscv.fit(X,y)"
   ]
  },
  {
   "cell_type": "code",
   "execution_count": 104,
   "metadata": {
    "slideshow": {
     "slide_type": "slide"
    }
   },
   "outputs": [
    {
     "data": {
      "text/plain": [
       "{'learning_rate': 0.1, 'n_estimators': 100, 'num_leaves': 50}"
      ]
     },
     "execution_count": 104,
     "metadata": {},
     "output_type": "execute_result"
    }
   ],
   "source": [
    "gscv.best_params_"
   ]
  },
  {
   "cell_type": "code",
   "execution_count": 105,
   "metadata": {
    "slideshow": {
     "slide_type": "skip"
    }
   },
   "outputs": [],
   "source": [
    "pred = gscv.predict_proba(df_test[cols])[:,1]"
   ]
  },
  {
   "cell_type": "code",
   "execution_count": 106,
   "metadata": {
    "slideshow": {
     "slide_type": "slide"
    }
   },
   "outputs": [
    {
     "data": {
      "text/plain": [
       "0.8639398366762926"
      ]
     },
     "execution_count": 106,
     "metadata": {},
     "output_type": "execute_result"
    }
   ],
   "source": [
    "roc_auc_score(df_test[\"target\"], pred)"
   ]
  },
  {
   "cell_type": "markdown",
   "metadata": {
    "slideshow": {
     "slide_type": "slide"
    }
   },
   "source": [
    "## RandomSearch\n",
    "```RandomizedSearchCV(estimator, param_distributions, n_iter=10, scoring=None, fit_params=None, n_jobs=None, iid=’warn’, refit=True, cv=’warn’, verbose=0, pre_dispatch=‘2*n_jobs’, random_state=None, error_score=’raise-deprecating’, return_train_score=’warn’)```"
   ]
  },
  {
   "cell_type": "code",
   "execution_count": 52,
   "metadata": {
    "slideshow": {
     "slide_type": "slide"
    }
   },
   "outputs": [],
   "source": [
    "from scipy.stats import randint, uniform"
   ]
  },
  {
   "cell_type": "code",
   "execution_count": 102,
   "metadata": {
    "slideshow": {
     "slide_type": "slide"
    }
   },
   "outputs": [],
   "source": [
    "param = {\n",
    "    'num_leaves':randint(1, 1000),\n",
    "    'learning_rate': uniform(),\n",
    "    'n_estimators': randint(1, 1000)\n",
    "    \n",
    "}"
   ]
  },
  {
   "cell_type": "code",
   "execution_count": 103,
   "metadata": {
    "slideshow": {
     "slide_type": "slide"
    }
   },
   "outputs": [],
   "source": [
    "rgs = RandomizedSearchCV(lgb.LGBMClassifier(), param_distributions=param, n_jobs=1, verbose=1)"
   ]
  },
  {
   "cell_type": "code",
   "execution_count": 107,
   "metadata": {
    "slideshow": {
     "slide_type": "slide"
    }
   },
   "outputs": [
    {
     "name": "stdout",
     "output_type": "stream",
     "text": [
      "Fitting 3 folds for each of 10 candidates, totalling 30 fits\n"
     ]
    },
    {
     "name": "stderr",
     "output_type": "stream",
     "text": [
      "[Parallel(n_jobs=1)]: Using backend SequentialBackend with 1 concurrent workers.\n",
      "[Parallel(n_jobs=1)]: Done  30 out of  30 | elapsed: 21.9min finished\n"
     ]
    },
    {
     "data": {
      "text/plain": [
       "RandomizedSearchCV(cv='warn', error_score='raise-deprecating',\n",
       "          estimator=LGBMClassifier(boosting_type='gbdt', class_weight=None, colsample_bytree=1.0,\n",
       "        learning_rate=0.1, max_depth=-1, min_child_samples=20,\n",
       "        min_child_weight=0.001, min_split_gain=0.0, n_estimators=100,\n",
       "        n_jobs=-1, num_leaves=31, objective=None, random_state=None,\n",
       "        reg_alpha=0.0, reg_lambda=0.0, silent=True, subsample=1.0,\n",
       "        subsample_for_bin=200000, subsample_freq=1),\n",
       "          fit_params=None, iid='warn', n_iter=10, n_jobs=1,\n",
       "          param_distributions={'num_leaves': <scipy.stats._distn_infrastructure.rv_frozen object at 0x12c5d4160>, 'learning_rate': <scipy.stats._distn_infrastructure.rv_frozen object at 0x1339e84a8>, 'n_estimators': <scipy.stats._distn_infrastructure.rv_frozen object at 0x1339e8c18>},\n",
       "          pre_dispatch='2*n_jobs', random_state=None, refit=True,\n",
       "          return_train_score='warn', scoring=None, verbose=1)"
      ]
     },
     "execution_count": 107,
     "metadata": {},
     "output_type": "execute_result"
    }
   ],
   "source": [
    "rgs.fit(X,y)"
   ]
  },
  {
   "cell_type": "code",
   "execution_count": 110,
   "metadata": {
    "slideshow": {
     "slide_type": "skip"
    }
   },
   "outputs": [],
   "source": [
    "pred = rgs.predict_proba(df_test[cols])[:,1]"
   ]
  },
  {
   "cell_type": "code",
   "execution_count": 111,
   "metadata": {
    "slideshow": {
     "slide_type": "slide"
    }
   },
   "outputs": [
    {
     "data": {
      "text/plain": [
       "0.8746015272765152"
      ]
     },
     "execution_count": 111,
     "metadata": {},
     "output_type": "execute_result"
    }
   ],
   "source": [
    "roc_auc_score(df_test[\"target\"], pred)"
   ]
  },
  {
   "cell_type": "markdown",
   "metadata": {
    "slideshow": {
     "slide_type": "slide"
    }
   },
   "source": [
    "## Hyperopt\n",
    "- define the objective function to minimize\n",
    "- the space over which to search\n",
    "- trials database (optional)\n",
    "- the search algorithm to use (optional)"
   ]
  },
  {
   "cell_type": "code",
   "execution_count": 112,
   "metadata": {
    "slideshow": {
     "slide_type": "slide"
    }
   },
   "outputs": [],
   "source": [
    "from hyperopt import tpe, hp, fmin"
   ]
  },
  {
   "cell_type": "code",
   "execution_count": 116,
   "metadata": {
    "slideshow": {
     "slide_type": "slide"
    }
   },
   "outputs": [],
   "source": [
    "def objective_func(param):\n",
    "    try:\n",
    "        lgbc = lgb.LGBMClassifier(**param)\n",
    "        lgbc.fit(X,y)\n",
    "        y_pred_test = lgbc.predict_proba(df_test[cols])[:,1]\n",
    "        loss = roc_auc_score(df_test[\"target\"],y_pred_test)\n",
    "    except Exception as e:\n",
    "        loss = -1000\n",
    "        print(e)\n",
    "    return -loss"
   ]
  },
  {
   "cell_type": "markdown",
   "metadata": {
    "slideshow": {
     "slide_type": "slide"
    }
   },
   "source": [
    "### Search space\n",
    "- hp.choice(label, options)\n",
    "- hp.uniform(label, low, high)\n",
    "- hp.normal(label, mu, sigma)\n",
    "- hp.randint(label, upper)\n"
   ]
  },
  {
   "cell_type": "code",
   "execution_count": 117,
   "metadata": {
    "slideshow": {
     "slide_type": "slide"
    }
   },
   "outputs": [],
   "source": [
    "args = {\n",
    "        'learning_rate': hp.uniform('learning_rate', 0.03, 1.0),\n",
    "         'num_leaves':hp.randint(\"num_leaves\", 1000), \n",
    "        \"n_estimators\": hp.randint(\"n_estimators\", 1000),\n",
    "}"
   ]
  },
  {
   "cell_type": "code",
   "execution_count": 118,
   "metadata": {
    "slideshow": {
     "slide_type": "slide"
    }
   },
   "outputs": [
    {
     "name": "stdout",
     "output_type": "stream",
     "text": [
      "100%|██████████| 10/10 [04:55<00:00, 25.81s/it, best loss: -0.875187046830312]\n"
     ]
    }
   ],
   "source": [
    "best_classifier = fmin(objective_func,args,\n",
    "                        algo=tpe.suggest,max_evals=10)"
   ]
  },
  {
   "cell_type": "markdown",
   "metadata": {},
   "source": [
    "## Scikit-optimize\n"
   ]
  },
  {
   "cell_type": "code",
   "execution_count": 120,
   "metadata": {
    "slideshow": {
     "slide_type": "slide"
    }
   },
   "outputs": [],
   "source": [
    "from skopt.space import Real, Integer\n",
    "from skopt.utils import use_named_args"
   ]
  },
  {
   "cell_type": "code",
   "execution_count": 122,
   "metadata": {
    "slideshow": {
     "slide_type": "slide"
    }
   },
   "outputs": [],
   "source": [
    "space  = [Integer(1, 1000, name='num_leaves'),\n",
    "          Real(10**-5, 10**0, \"log-uniform\", name='learning_rate'),\n",
    "          Integer(100, 1000, name='n_estimators')]"
   ]
  },
  {
   "cell_type": "code",
   "execution_count": 123,
   "metadata": {
    "slideshow": {
     "slide_type": "slide"
    }
   },
   "outputs": [],
   "source": [
    "lgb_c = lgb.LGBMClassifier()"
   ]
  },
  {
   "cell_type": "code",
   "execution_count": 155,
   "metadata": {
    "slideshow": {
     "slide_type": "slide"
    }
   },
   "outputs": [],
   "source": [
    "def objective(params):\n",
    "    try:\n",
    "        p = {\n",
    "            \"num_leaves\": params[0],\n",
    "            \"learning_rate\": params[1],\n",
    "            \"n_estimators\": params[2],\n",
    "        }\n",
    "        lgbc = lgb.LGBMClassifier(**p)\n",
    "        lgbc.fit(X,y)\n",
    "        y_pred_test = lgbc.predict_proba(df_test[cols])[:,1]\n",
    "        loss = roc_auc_score(df_test[\"target\"],y_pred_test)\n",
    "    except Exception as e:\n",
    "        loss = -1000\n",
    "        print(e)\n",
    "    print(loss)\n",
    "    return -loss\n",
    "    \n",
    "    "
   ]
  },
  {
   "cell_type": "code",
   "execution_count": 156,
   "metadata": {
    "slideshow": {
     "slide_type": "slide"
    }
   },
   "outputs": [],
   "source": [
    "from skopt import gp_minimize"
   ]
  },
  {
   "cell_type": "code",
   "execution_count": 157,
   "metadata": {
    "slideshow": {
     "slide_type": "slide"
    }
   },
   "outputs": [
    {
     "name": "stdout",
     "output_type": "stream",
     "text": [
      "0.8761029392319195\n",
      "0.8530335845343712\n",
      "0.6900265234265445\n",
      "0.8747043429172818\n",
      "0.873363825459041\n",
      "0.7816536217166836\n",
      "0.8768656700923957\n",
      "0.8392898480670867\n",
      "0.8518198848321873\n",
      "0.681228556916248\n"
     ]
    }
   ],
   "source": [
    "res_gp = gp_minimize(objective, space, n_calls=10, random_state=0)"
   ]
  },
  {
   "cell_type": "code",
   "execution_count": 158,
   "metadata": {
    "slideshow": {
     "slide_type": "slide"
    }
   },
   "outputs": [
    {
     "data": {
      "text/plain": [
       "-0.8768656700923957"
      ]
     },
     "execution_count": 158,
     "metadata": {},
     "output_type": "execute_result"
    }
   ],
   "source": [
    "res_gp.fun"
   ]
  },
  {
   "cell_type": "markdown",
   "metadata": {
    "slideshow": {
     "slide_type": "slide"
    }
   },
   "source": [
    "## Summarize\n",
    "\n",
    "First model: 0.8578124628689625\n",
    "\n",
    "GridSearch: 0.8639398366762926\n",
    "\n",
    "RandomSearch: 0.8746015272765152\n",
    "\n",
    "Hyperopt: 0.875187046830312\n",
    "\n",
    "skopt: 0.8768656700923957"
   ]
  },
  {
   "cell_type": "markdown",
   "metadata": {
    "slideshow": {
     "slide_type": "slide"
    }
   },
   "source": [
    "## QA\n",
    "\n",
    "\n",
    "rafalpronko @ LinkedIn, Telegram, Twitter, Tungsten"
   ]
  },
  {
   "cell_type": "markdown",
   "metadata": {
    "slideshow": {
     "slide_type": "slide"
    }
   },
   "source": [
    "## References\n",
    "\n",
    "### Libraries\n",
    "1. [MOE](https://github.com/Yelp/MOE)\n",
    "2. [Spearmint](https://github.com/HIPS/Spearmint)\n",
    "3. [GPyOpt](https://github.com/SheffieldML/GPyOpt)\n",
    "4. [HyperOpt](http://hyperopt.github.io/hyperopt/)\n",
    "5. [Skopt](https://scikit-optimize.github.io)\n",
    "\n",
    "\n",
    "### Article\n",
    "1. E. Brochu,, V. M. Cora, and N. De Freitas. A tutorial on Bayesian optimization of expensive cost functions, with application to active user modeling and hierarchical reinforcement learning., arXiv preprint arXiv:1012.2599 (2010), https://arxiv.org/pdf/1012.2599.pdf.\n",
    "2. J. Bergstra, R. Bardenet, Y. Bengio, Algorithms for hyper-parameter optimization., Advances in Neural Information Processing Systems, 2011, https://papers.nips.cc/paper/4443-algorithms-for-hyper-parameter-optimization.pdf.\n",
    "3. J. Snoek, H. Larochelle, and R. P. Adams. Practical bayesian optimization of machine learning algorithms.. Advances in neural information processing systems, 2012, https://arxiv.org/pdf/1206.2944.pdf.\n",
    "4. J. Bergstra, D. Yamins, and D. D. Cox. Making a Science of Model Search: Hyperparameter Optimization in Hundreds of Dimensions for Vision Architectures., ICML (1) 28 (2013): 115-123., https://www.jmlr.org/proceedings/papers/v28/bergstra13.pdf.\n",
    "5. https://thuijskens.github.io/2016/12/29/bayesian-optimisation/\n",
    "6. https://conference.scipy.org/proceedings/scipy2013/pdfs/bergstra_hyperopt.pdf"
   ]
  },
  {
   "cell_type": "code",
   "execution_count": null,
   "metadata": {},
   "outputs": [],
   "source": []
  }
 ],
 "metadata": {
  "celltoolbar": "Slideshow",
  "kernelspec": {
   "display_name": "Python 3",
   "language": "python",
   "name": "python3"
  },
  "language_info": {
   "codemirror_mode": {
    "name": "ipython",
    "version": 3
   },
   "file_extension": ".py",
   "mimetype": "text/x-python",
   "name": "python",
   "nbconvert_exporter": "python",
   "pygments_lexer": "ipython3",
   "version": "3.6.2"
  }
 },
 "nbformat": 4,
 "nbformat_minor": 2
}
